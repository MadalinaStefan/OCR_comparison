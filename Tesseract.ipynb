{
  "nbformat": 4,
  "nbformat_minor": 0,
  "metadata": {
    "colab": {
      "provenance": [],
      "include_colab_link": true
    },
    "kernelspec": {
      "name": "python3",
      "display_name": "Python 3"
    },
    "language_info": {
      "name": "python"
    }
  },
  "cells": [
    {
      "cell_type": "markdown",
      "metadata": {
        "id": "view-in-github",
        "colab_type": "text"
      },
      "source": [
        "<a href=\"https://colab.research.google.com/github/MadalinaStefan/OCR_comparison/blob/main/Tesseract.ipynb\" target=\"_parent\"><img src=\"https://colab.research.google.com/assets/colab-badge.svg\" alt=\"Open In Colab\"/></a>"
      ]
    },
    {
      "cell_type": "markdown",
      "metadata": {
        "id": "iAHfCJfy12lh"
      },
      "source": [
        "# **I sistemi di riconoscimento ottico dei caratteri: confronto tra Keras Ocr, Tesseract e Easy Ocr**\n"
      ]
    },
    {
      "cell_type": "markdown",
      "source": [
        "### Installazione e importazione librerie"
      ],
      "metadata": {
        "id": "DIHUUakG38XZ"
      }
    },
    {
      "cell_type": "markdown",
      "metadata": {
        "id": "rff3rIE7VWXh"
      },
      "source": [
        "La fase preliminare prevede l'installazione e l'importazione delle librerie necessarie."
      ]
    },
    {
      "cell_type": "code",
      "execution_count": 1,
      "metadata": {
        "colab": {
          "base_uri": "https://localhost:8080/"
        },
        "id": "b70XPGSfSgZ0",
        "outputId": "fc48fc0d-22c4-445e-f6e6-aeac781eb416"
      },
      "outputs": [
        {
          "output_type": "stream",
          "name": "stdout",
          "text": [
            "Collecting keras_ocr\n",
            "  Downloading keras_ocr-0.9.3-py3-none-any.whl (42 kB)\n",
            "\u001b[?25l     \u001b[90m━━━━━━━━━━━━━━━━━━━━━━━━━━━━━━━━━━━━━━━━\u001b[0m \u001b[32m0.0/42.3 kB\u001b[0m \u001b[31m?\u001b[0m eta \u001b[36m-:--:--\u001b[0m\r\u001b[2K     \u001b[91m━━━━━━━━━━━━━━━━━━━━━━━━━━━━━━━━━━━━━━\u001b[0m\u001b[91m╸\u001b[0m\u001b[90m━\u001b[0m \u001b[32m41.0/42.3 kB\u001b[0m \u001b[31m1.4 MB/s\u001b[0m eta \u001b[36m0:00:01\u001b[0m\r\u001b[2K     \u001b[90m━━━━━━━━━━━━━━━━━━━━━━━━━━━━━━━━━━━━━━━━\u001b[0m \u001b[32m42.3/42.3 kB\u001b[0m \u001b[31m817.2 kB/s\u001b[0m eta \u001b[36m0:00:00\u001b[0m\n",
            "\u001b[?25hRequirement already satisfied: editdistance in /usr/local/lib/python3.10/dist-packages (from keras_ocr) (0.6.2)\n",
            "Collecting efficientnet==1.0.0 (from keras_ocr)\n",
            "  Downloading efficientnet-1.0.0-py3-none-any.whl (17 kB)\n",
            "Collecting essential_generators (from keras_ocr)\n",
            "  Downloading essential_generators-1.0-py3-none-any.whl (9.5 MB)\n",
            "\u001b[2K     \u001b[90m━━━━━━━━━━━━━━━━━━━━━━━━━━━━━━━━━━━━━━━━\u001b[0m \u001b[32m9.5/9.5 MB\u001b[0m \u001b[31m59.8 MB/s\u001b[0m eta \u001b[36m0:00:00\u001b[0m\n",
            "\u001b[?25hRequirement already satisfied: fonttools in /usr/local/lib/python3.10/dist-packages (from keras_ocr) (4.48.1)\n",
            "Requirement already satisfied: imgaug in /usr/local/lib/python3.10/dist-packages (from keras_ocr) (0.4.0)\n",
            "Collecting pyclipper (from keras_ocr)\n",
            "  Downloading pyclipper-1.3.0.post5-cp310-cp310-manylinux_2_12_x86_64.manylinux2010_x86_64.whl (908 kB)\n",
            "\u001b[2K     \u001b[90m━━━━━━━━━━━━━━━━━━━━━━━━━━━━━━━━━━━━━━━━\u001b[0m \u001b[32m908.3/908.3 kB\u001b[0m \u001b[31m39.3 MB/s\u001b[0m eta \u001b[36m0:00:00\u001b[0m\n",
            "\u001b[?25hRequirement already satisfied: shapely in /usr/local/lib/python3.10/dist-packages (from keras_ocr) (2.0.2)\n",
            "Requirement already satisfied: tqdm in /usr/local/lib/python3.10/dist-packages (from keras_ocr) (4.66.2)\n",
            "Collecting validators (from keras_ocr)\n",
            "  Downloading validators-0.22.0-py3-none-any.whl (26 kB)\n",
            "Collecting keras-applications<=1.0.8,>=1.0.7 (from efficientnet==1.0.0->keras_ocr)\n",
            "  Downloading Keras_Applications-1.0.8-py3-none-any.whl (50 kB)\n",
            "\u001b[2K     \u001b[90m━━━━━━━━━━━━━━━━━━━━━━━━━━━━━━━━━━━━━━━━\u001b[0m \u001b[32m50.7/50.7 kB\u001b[0m \u001b[31m6.6 MB/s\u001b[0m eta \u001b[36m0:00:00\u001b[0m\n",
            "\u001b[?25hRequirement already satisfied: scikit-image in /usr/local/lib/python3.10/dist-packages (from efficientnet==1.0.0->keras_ocr) (0.19.3)\n",
            "Requirement already satisfied: six in /usr/local/lib/python3.10/dist-packages (from imgaug->keras_ocr) (1.16.0)\n",
            "Requirement already satisfied: numpy>=1.15 in /usr/local/lib/python3.10/dist-packages (from imgaug->keras_ocr) (1.25.2)\n",
            "Requirement already satisfied: scipy in /usr/local/lib/python3.10/dist-packages (from imgaug->keras_ocr) (1.11.4)\n",
            "Requirement already satisfied: Pillow in /usr/local/lib/python3.10/dist-packages (from imgaug->keras_ocr) (9.4.0)\n",
            "Requirement already satisfied: matplotlib in /usr/local/lib/python3.10/dist-packages (from imgaug->keras_ocr) (3.7.1)\n",
            "Requirement already satisfied: opencv-python in /usr/local/lib/python3.10/dist-packages (from imgaug->keras_ocr) (4.8.0.76)\n",
            "Requirement already satisfied: imageio in /usr/local/lib/python3.10/dist-packages (from imgaug->keras_ocr) (2.31.6)\n",
            "Requirement already satisfied: h5py in /usr/local/lib/python3.10/dist-packages (from keras-applications<=1.0.8,>=1.0.7->efficientnet==1.0.0->keras_ocr) (3.9.0)\n",
            "Requirement already satisfied: networkx>=2.2 in /usr/local/lib/python3.10/dist-packages (from scikit-image->efficientnet==1.0.0->keras_ocr) (3.2.1)\n",
            "Requirement already satisfied: tifffile>=2019.7.26 in /usr/local/lib/python3.10/dist-packages (from scikit-image->efficientnet==1.0.0->keras_ocr) (2024.2.12)\n",
            "Requirement already satisfied: PyWavelets>=1.1.1 in /usr/local/lib/python3.10/dist-packages (from scikit-image->efficientnet==1.0.0->keras_ocr) (1.5.0)\n",
            "Requirement already satisfied: packaging>=20.0 in /usr/local/lib/python3.10/dist-packages (from scikit-image->efficientnet==1.0.0->keras_ocr) (23.2)\n",
            "Requirement already satisfied: contourpy>=1.0.1 in /usr/local/lib/python3.10/dist-packages (from matplotlib->imgaug->keras_ocr) (1.2.0)\n",
            "Requirement already satisfied: cycler>=0.10 in /usr/local/lib/python3.10/dist-packages (from matplotlib->imgaug->keras_ocr) (0.12.1)\n",
            "Requirement already satisfied: kiwisolver>=1.0.1 in /usr/local/lib/python3.10/dist-packages (from matplotlib->imgaug->keras_ocr) (1.4.5)\n",
            "Requirement already satisfied: pyparsing>=2.3.1 in /usr/local/lib/python3.10/dist-packages (from matplotlib->imgaug->keras_ocr) (3.1.1)\n",
            "Requirement already satisfied: python-dateutil>=2.7 in /usr/local/lib/python3.10/dist-packages (from matplotlib->imgaug->keras_ocr) (2.8.2)\n",
            "Installing collected packages: pyclipper, essential_generators, validators, keras-applications, efficientnet, keras_ocr\n",
            "Successfully installed efficientnet-1.0.0 essential_generators-1.0 keras-applications-1.0.8 keras_ocr-0.9.3 pyclipper-1.3.0.post5 validators-0.22.0\n",
            "Collecting pybind11\n",
            "  Downloading pybind11-2.11.1-py3-none-any.whl (227 kB)\n",
            "\u001b[2K     \u001b[90m━━━━━━━━━━━━━━━━━━━━━━━━━━━━━━━━━━━━━━━━\u001b[0m \u001b[32m227.7/227.7 kB\u001b[0m \u001b[31m5.0 MB/s\u001b[0m eta \u001b[36m0:00:00\u001b[0m\n",
            "\u001b[?25hInstalling collected packages: pybind11\n",
            "Successfully installed pybind11-2.11.1\n",
            "Collecting fastwer\n",
            "  Downloading fastwer-0.1.3.tar.gz (4.6 kB)\n",
            "  Preparing metadata (setup.py) ... \u001b[?25l\u001b[?25hdone\n",
            "Requirement already satisfied: pybind11 in /usr/local/lib/python3.10/dist-packages (from fastwer) (2.11.1)\n",
            "Building wheels for collected packages: fastwer\n",
            "  Building wheel for fastwer (setup.py) ... \u001b[?25l\u001b[?25hdone\n",
            "  Created wheel for fastwer: filename=fastwer-0.1.3-cp310-cp310-linux_x86_64.whl size=827754 sha256=d598bcd5c50d4544d9b16b16ad1866f3da6f30ad26de07b875f7447a22670647\n",
            "  Stored in directory: /root/.cache/pip/wheels/99/b5/22/f6edc9a914bf3b54ebc55e258e2f9aa2297908d85799de228f\n",
            "Successfully built fastwer\n",
            "Installing collected packages: fastwer\n",
            "Successfully installed fastwer-0.1.3\n"
          ]
        }
      ],
      "source": [
        "!pip install keras_ocr\n",
        "!pip install pybind11\n",
        "!pip3 install fastwer"
      ]
    },
    {
      "cell_type": "markdown",
      "metadata": {
        "id": "L_ti4tuQVcl4"
      },
      "source": [
        "Il dataset di immagini e i file .csv contenenti il golden text sono situati e vengono importati da google Drive."
      ]
    },
    {
      "cell_type": "code",
      "execution_count": 2,
      "metadata": {
        "colab": {
          "base_uri": "https://localhost:8080/"
        },
        "id": "LcUPRg6mOTTX",
        "outputId": "2e7d2a19-20d8-49c2-edb4-141629ba0c6f"
      },
      "outputs": [
        {
          "output_type": "stream",
          "name": "stdout",
          "text": [
            "Mounted at /content/drive\n",
            "Looking for /root/.keras-ocr/craft_mlt_25k.h5\n",
            "Downloading /root/.keras-ocr/craft_mlt_25k.h5\n"
          ]
        },
        {
          "output_type": "stream",
          "name": "stderr",
          "text": [
            "WARNING:tensorflow:From /usr/local/lib/python3.10/dist-packages/tensorflow/python/util/dispatch.py:1260: resize_bilinear (from tensorflow.python.ops.image_ops_impl) is deprecated and will be removed in a future version.\n",
            "Instructions for updating:\n",
            "Use `tf.image.resize(...method=ResizeMethod.BILINEAR...)` instead.\n"
          ]
        },
        {
          "output_type": "stream",
          "name": "stdout",
          "text": [
            "Looking for /root/.keras-ocr/crnn_kurapan.h5\n",
            "Downloading /root/.keras-ocr/crnn_kurapan.h5\n"
          ]
        }
      ],
      "source": [
        "from google.colab import drive\n",
        "import os\n",
        "import keras_ocr\n",
        "import matplotlib.pyplot as plt\n",
        "import pandas as pd\n",
        "import fastwer\n",
        "import numpy as np\n",
        "\n",
        "\n",
        "\n",
        "drive.mount('/content/drive')\n",
        "pipeline = keras_ocr.pipeline.Pipeline()"
      ]
    },
    {
      "cell_type": "markdown",
      "metadata": {
        "id": "DM6UOJqtVxpT"
      },
      "source": [
        "### Acquisizione delle immagini"
      ]
    },
    {
      "cell_type": "markdown",
      "metadata": {
        "id": "3yaWRh8YVljw"
      },
      "source": [
        "Il codice seguente è stato utilizzato per associare a ciascuna immagine (contenuta nel dataset immagini), il corrispettivo testo golden. Vengono create inizialmente tre liste vuote che verranno popolate con le immagini, le cartelle e il testo golden.\n",
        "Ad ogni elemento presente nel dataset delle immagini, divise per tipologia, viene associato il corrispondente file .csv che contiene i testi golden di quella determinata categoria di immagini. L'associazione viene effetuata attraverso la corrispondenza dei nomi delle cartelle del dataset e dei nomi dei file .csv.\n",
        "In *images_folder* vengono caricati di volta in volta i dataset nella qualità e nella trasformazione che si vuole visualizzare.\n"
      ]
    },
    {
      "cell_type": "code",
      "execution_count": 3,
      "metadata": {
        "id": "jpIo7r-tO9g0"
      },
      "outputs": [],
      "source": [
        "images_folder = '/content/drive/MyDrive/dataset_immagini_low_rotation' # Il dataset_immagini viene aggiornato ogni volta con la qualità e la trasformazione\n",
        "csv_folder = '/content/drive/MyDrive/golden_text'\n",
        "\n",
        "images = []\n",
        "labels = []\n",
        "true_texts = []\n",
        "\n",
        "for folder_class in os.listdir(images_folder):\n",
        "  path = csv_folder + '/' + folder_class + '.csv'\n",
        "  texts = pd.read_csv(path).values\n",
        "\n",
        "  for file in os.listdir(images_folder + '/' + folder_class):\n",
        "    if file.lower().endswith(('.png', '.jpg', '.jpeg')):\n",
        "      images.append(images_folder + '/' + folder_class + '/' + file)\n",
        "      labels.append(folder_class)\n",
        "      index = int(file.split('.')[0])\n",
        "      true_texts.append(texts[index][0])\n"
      ]
    },
    {
      "cell_type": "markdown",
      "metadata": {
        "id": "o2A4J5dbV6aX"
      },
      "source": [
        "Le immagini vengono lette attraverso keras_ocr e successivamente convertite in array."
      ]
    },
    {
      "cell_type": "code",
      "execution_count": 4,
      "metadata": {
        "id": "V4xXuqjjPqCS"
      },
      "outputs": [],
      "source": [
        "images_path = images\n",
        "images = [keras_ocr.tools.read(img) for img in images]\n",
        "images = np.array(images, dtype=object)\n",
        "images_path = np.array(images_path, dtype=object)\n",
        "true_texts = np.array(true_texts, dtype=object)"
      ]
    },
    {
      "cell_type": "markdown",
      "metadata": {
        "id": "SLdbpw-jBoAj"
      },
      "source": [
        "# **Tesseract**\n"
      ]
    },
    {
      "cell_type": "markdown",
      "metadata": {
        "id": "A6eOIl1ubSjW"
      },
      "source": [
        "Tesseract necessita dell'installazione nel sistema operativo, successivamente è possibile installare la libreria Pytesseract che fornisce un'interfaccia Tesseract per il linguaggio Python.\n"
      ]
    },
    {
      "cell_type": "code",
      "execution_count": 5,
      "metadata": {
        "id": "iu-GYde_B_ST",
        "colab": {
          "base_uri": "https://localhost:8080/"
        },
        "outputId": "7b33b3f2-5b4a-4ac3-ff3c-3ac535a1b8ae"
      },
      "outputs": [
        {
          "output_type": "stream",
          "name": "stdout",
          "text": [
            "Reading package lists... Done\n",
            "Building dependency tree... Done\n",
            "Reading state information... Done\n",
            "The following additional packages will be installed:\n",
            "  tesseract-ocr-eng tesseract-ocr-osd\n",
            "The following NEW packages will be installed:\n",
            "  tesseract-ocr tesseract-ocr-eng tesseract-ocr-osd\n",
            "0 upgraded, 3 newly installed, 0 to remove and 33 not upgraded.\n",
            "Need to get 4,816 kB of archives.\n",
            "After this operation, 15.6 MB of additional disk space will be used.\n",
            "Get:1 http://archive.ubuntu.com/ubuntu jammy/universe amd64 tesseract-ocr-eng all 1:4.00~git30-7274cfa-1.1 [1,591 kB]\n",
            "Get:2 http://archive.ubuntu.com/ubuntu jammy/universe amd64 tesseract-ocr-osd all 1:4.00~git30-7274cfa-1.1 [2,990 kB]\n",
            "Get:3 http://archive.ubuntu.com/ubuntu jammy/universe amd64 tesseract-ocr amd64 4.1.1-2.1build1 [236 kB]\n",
            "Fetched 4,816 kB in 1s (4,451 kB/s)\n",
            "debconf: unable to initialize frontend: Dialog\n",
            "debconf: (No usable dialog-like program is installed, so the dialog based frontend cannot be used. at /usr/share/perl5/Debconf/FrontEnd/Dialog.pm line 78, <> line 3.)\n",
            "debconf: falling back to frontend: Readline\n",
            "debconf: unable to initialize frontend: Readline\n",
            "debconf: (This frontend requires a controlling tty.)\n",
            "debconf: falling back to frontend: Teletype\n",
            "dpkg-preconfigure: unable to re-open stdin: \n",
            "Selecting previously unselected package tesseract-ocr-eng.\n",
            "(Reading database ... 121749 files and directories currently installed.)\n",
            "Preparing to unpack .../tesseract-ocr-eng_1%3a4.00~git30-7274cfa-1.1_all.deb ...\n",
            "Unpacking tesseract-ocr-eng (1:4.00~git30-7274cfa-1.1) ...\n",
            "Selecting previously unselected package tesseract-ocr-osd.\n",
            "Preparing to unpack .../tesseract-ocr-osd_1%3a4.00~git30-7274cfa-1.1_all.deb ...\n",
            "Unpacking tesseract-ocr-osd (1:4.00~git30-7274cfa-1.1) ...\n",
            "Selecting previously unselected package tesseract-ocr.\n",
            "Preparing to unpack .../tesseract-ocr_4.1.1-2.1build1_amd64.deb ...\n",
            "Unpacking tesseract-ocr (4.1.1-2.1build1) ...\n",
            "Setting up tesseract-ocr-eng (1:4.00~git30-7274cfa-1.1) ...\n",
            "Setting up tesseract-ocr-osd (1:4.00~git30-7274cfa-1.1) ...\n",
            "Setting up tesseract-ocr (4.1.1-2.1build1) ...\n",
            "Processing triggers for man-db (2.10.2-1) ...\n"
          ]
        }
      ],
      "source": [
        "! sudo apt install tesseract-ocr"
      ]
    },
    {
      "cell_type": "code",
      "execution_count": 6,
      "metadata": {
        "id": "035ig2HpA7pb",
        "colab": {
          "base_uri": "https://localhost:8080/"
        },
        "outputId": "8fcef84e-4849-4d3e-ee40-f3ea4b2aef30"
      },
      "outputs": [
        {
          "output_type": "stream",
          "name": "stdout",
          "text": [
            "Collecting pytesseract\n",
            "  Downloading pytesseract-0.3.10-py3-none-any.whl (14 kB)\n",
            "Requirement already satisfied: packaging>=21.3 in /usr/local/lib/python3.10/dist-packages (from pytesseract) (23.2)\n",
            "Requirement already satisfied: Pillow>=8.0.0 in /usr/local/lib/python3.10/dist-packages (from pytesseract) (9.4.0)\n",
            "Installing collected packages: pytesseract\n",
            "Successfully installed pytesseract-0.3.10\n"
          ]
        }
      ],
      "source": [
        "!pip install pytesseract"
      ]
    },
    {
      "cell_type": "markdown",
      "source": [
        "La seguente configurazione personalizzata indica a Tesseract di utilizzare la modalità LSTM (Long Short-Term Memory) per ottenere un'alta precisione nel riconoscimento del testo e di considerare l'intera immagine come un unico blocco di testo."
      ],
      "metadata": {
        "id": "qAVPQXOJDYgC"
      }
    },
    {
      "cell_type": "code",
      "execution_count": 7,
      "metadata": {
        "id": "VINf5KdECD8t"
      },
      "outputs": [],
      "source": [
        "import pytesseract\n",
        "from PIL import Image\n",
        "from matplotlib import cm\n",
        "\n",
        "custom_config = r'--oem 3 --psm 6'\n"
      ]
    },
    {
      "cell_type": "markdown",
      "source": [
        "### Il riconoscimento ottico dei caratteri"
      ],
      "metadata": {
        "id": "caXY7zBuICex"
      }
    },
    {
      "cell_type": "markdown",
      "source": [
        "La funzione *ocr_on_tesseract* esegue il riconoscimento ottico dei caratteri sul dataset di immagini e salva i risultati ottenuti nella lista *pred_texts*."
      ],
      "metadata": {
        "id": "AkpzMEXaEcsE"
      }
    },
    {
      "cell_type": "code",
      "execution_count": 8,
      "metadata": {
        "id": "oKRfKyzJDGMf"
      },
      "outputs": [],
      "source": [
        "from re import L\n",
        "\n",
        "def ocr_on_tesseract(images, lang='eng'):\n",
        "  pred_texts = []\n",
        "\n",
        "  for image in images:\n",
        "    testo_estratto = pytesseract.image_to_string(Image.fromarray(image), lang='eng')\n",
        "    pred_texts.append(testo_estratto)\n",
        "\n",
        "  return pred_texts\n"
      ]
    },
    {
      "cell_type": "markdown",
      "metadata": {
        "id": "GaO4dF7j99Kq"
      },
      "source": [
        "### Metriche di valutazione\n"
      ]
    },
    {
      "cell_type": "markdown",
      "metadata": {
        "id": "NPHCKrhFXkJf"
      },
      "source": [
        "La seguente funzione calcola i punteggi CER e WER dei risultati prodotti dal programma, prendendo in cosiderazione e confrontanto la lista dei testi predetti con la lista dei testi golden (forniti in precedenza dall'utente)."
      ]
    },
    {
      "cell_type": "code",
      "execution_count": 9,
      "metadata": {
        "id": "I4cq1jQyGKOH"
      },
      "outputs": [],
      "source": [
        "def calculate_scores(pred_texts, true_texts):\n",
        "  scores_cer = [ fastwer.score_sent(pred_texts[i].lower(), true_texts[i].lower(), char_level=True) for i in range(len(pred_texts)) ]\n",
        "\n",
        "  scores_wer = [ fastwer.score_sent(pred_texts[i].lower(), true_texts[i].lower()) for i in range(len(pred_texts)) ]\n",
        "\n",
        "  return scores_cer, scores_wer"
      ]
    },
    {
      "cell_type": "markdown",
      "metadata": {
        "id": "NnI3H5w_XvqT"
      },
      "source": [
        "I risultati CER e WER vengono visualizzati in file .csv per categoria di immagine. Mostrano la trasformazione eseguita e i risultati ottenuti.  "
      ]
    },
    {
      "cell_type": "code",
      "execution_count": 10,
      "metadata": {
        "id": "G8IEw8yIGL80"
      },
      "outputs": [],
      "source": [
        "def generate_csv(data_class, trans, cer, wer):\n",
        "  d = {'augmentation': trans, 'cer': cer, 'wer': wer}\n",
        "  df = pd.DataFrame(data=d)\n",
        "\n",
        "  csv_name = data_class + '.csv'\n",
        "  df.to_csv(csv_name, sep=',', index=False)\n",
        "  return df"
      ]
    },
    {
      "cell_type": "markdown",
      "metadata": {
        "id": "WhEEAG-JX0Oh"
      },
      "source": [
        "Viene definita una seconda funzione per l'implementazione dei file .csv contenenti il percorso dell'immagine, il testo golden e il testo predetto. Questa funzione è interessante per poter visualizzare i caratteri che vengono riconosciuti dal programma, inoltre può risultare utile per comprendere il funzionamento delle operazioni CER  e WER e verificare che tra le coppie formate da testo golden e testo predetto ci sia corrispondenza."
      ]
    },
    {
      "cell_type": "code",
      "execution_count": 11,
      "metadata": {
        "id": "9y71g5ImjvDA"
      },
      "outputs": [],
      "source": [
        "def generate_text_csv(csv_label, files_path, true_text, pred_texts):\n",
        "  d = {'filename': files_path, 'true_text': true_text, 'pred_text': pred_texts}\n",
        "  df = pd.DataFrame(data=d)\n",
        "  csv_name = csv_label + '.csv'\n",
        "  df.to_csv(csv_name, sep=',', index=False)\n",
        "  return df"
      ]
    },
    {
      "cell_type": "markdown",
      "metadata": {
        "id": "lVbZ4Pg8X6H9"
      },
      "source": [
        "### Risultati"
      ]
    },
    {
      "cell_type": "markdown",
      "metadata": {
        "id": "oNunNcdUX-S9"
      },
      "source": [
        "Ogni immagine all'interno di una categoria di immagini viene analizzata per la qualità e la trasformazione del dataset che ha ricevuto nella fase iniziale. Vengono create le colonne dei file .csv e vengono invocate le due funzioni create precedentemente per la creazione dei file dei risultati.\n",
        "I risultati CER e WER illustrano la media ottenuta dal riconoscimento di tutte le immagini di una determinata classe."
      ]
    },
    {
      "cell_type": "code",
      "source": [
        "labels = np.array(labels)\n",
        "\n",
        "for label in set(labels):\n",
        "  print(label)\n",
        "  class_index = np.where(labels==label)[0]\n",
        "  test_images = []\n",
        "\n",
        "  column_cer = []\n",
        "  column_wer = []\n",
        "  column_trans = []\n",
        "\n",
        "  test_images = images[class_index]\n",
        "\n",
        "  pred_texts = ocr_on_tesseract(test_images)\n",
        "\n",
        "  cer, wer = calculate_scores(pred_texts, true_texts[class_index])\n",
        "\n",
        "  column_cer.append(round(np.mean(cer), 2))\n",
        "  column_wer.append(round(np.mean(wer), 2))\n",
        "  column_trans.append(\"low rotation\") # Specifiche delle caratteristiche del dataset\n",
        "\n",
        "      # Permette di visualizzare il testo predetto e il testo golden\n",
        "  #generate_text_csv(label, images_path[class_index], true_texts[class_index], pred_texts)\n",
        "\n",
        "      # Genera un file .csv per ogni label e permette di visualizzare i risultati CER e WER\n",
        "  generate_csv(label, column_trans, column_cer, column_wer)"
      ],
      "metadata": {
        "colab": {
          "base_uri": "https://localhost:8080/"
        },
        "id": "XyAThe7Y4qU8",
        "outputId": "31739a2c-6882-4552-c8ba-8f9dd034754e"
      },
      "execution_count": 12,
      "outputs": [
        {
          "output_type": "stream",
          "name": "stdout",
          "text": [
            "structured_text\n",
            "car_plates\n",
            "unstructured_text\n",
            "handwritten_texts\n"
          ]
        }
      ]
    }
  ]
}
