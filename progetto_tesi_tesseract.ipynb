{
  "nbformat": 4,
  "nbformat_minor": 0,
  "metadata": {
    "colab": {
      "provenance": [],
      "mount_file_id": "1tS1llE1GQZX2NHR60cDjHTHez5puJen6",
      "authorship_tag": "ABX9TyNICw7Iz2WaJ73lgJbA52av",
      "include_colab_link": true
    },
    "kernelspec": {
      "name": "python3",
      "display_name": "Python 3"
    },
    "language_info": {
      "name": "python"
    }
  },
  "cells": [
    {
      "cell_type": "markdown",
      "metadata": {
        "id": "view-in-github",
        "colab_type": "text"
      },
      "source": [
        "<a href=\"https://colab.research.google.com/github/MadalinaStefan/OCR_comparison/blob/main/progetto_tesi_tesseract.ipynb\" target=\"_parent\"><img src=\"https://colab.research.google.com/assets/colab-badge.svg\" alt=\"Open In Colab\"/></a>"
      ]
    },
    {
      "cell_type": "markdown",
      "source": [
        "# **STANDARD**"
      ],
      "metadata": {
        "id": "iAHfCJfy12lh"
      }
    },
    {
      "cell_type": "code",
      "source": [
        "!pip install keras_ocr\n",
        "!pip install pybind11\n",
        "!pip3 install fastwer"
      ],
      "metadata": {
        "id": "b70XPGSfSgZ0",
        "colab": {
          "base_uri": "https://localhost:8080/"
        },
        "outputId": "e01afe49-3991-4ed8-ab49-44d2af60568f"
      },
      "execution_count": 1,
      "outputs": [
        {
          "output_type": "stream",
          "name": "stdout",
          "text": [
            "Collecting keras_ocr\n",
            "  Downloading keras_ocr-0.9.3-py3-none-any.whl (42 kB)\n",
            "\u001b[?25l     \u001b[90m━━━━━━━━━━━━━━━━━━━━━━━━━━━━━━━━━━━━━━━━\u001b[0m \u001b[32m0.0/42.3 kB\u001b[0m \u001b[31m?\u001b[0m eta \u001b[36m-:--:--\u001b[0m\r\u001b[2K     \u001b[91m━━━━━━━━━━━━━━━━━━━━━━━━━━━━━━━━━━━━━━\u001b[0m\u001b[91m╸\u001b[0m\u001b[90m━\u001b[0m \u001b[32m41.0/42.3 kB\u001b[0m \u001b[31m1.2 MB/s\u001b[0m eta \u001b[36m0:00:01\u001b[0m\r\u001b[2K     \u001b[90m━━━━━━━━━━━━━━━━━━━━━━━━━━━━━━━━━━━━━━━━\u001b[0m \u001b[32m42.3/42.3 kB\u001b[0m \u001b[31m836.2 kB/s\u001b[0m eta \u001b[36m0:00:00\u001b[0m\n",
            "\u001b[?25hRequirement already satisfied: editdistance in /usr/local/lib/python3.10/dist-packages (from keras_ocr) (0.6.2)\n",
            "Collecting efficientnet==1.0.0 (from keras_ocr)\n",
            "  Downloading efficientnet-1.0.0-py3-none-any.whl (17 kB)\n",
            "Collecting essential_generators (from keras_ocr)\n",
            "  Downloading essential_generators-1.0-py3-none-any.whl (9.5 MB)\n",
            "\u001b[2K     \u001b[90m━━━━━━━━━━━━━━━━━━━━━━━━━━━━━━━━━━━━━━━━\u001b[0m \u001b[32m9.5/9.5 MB\u001b[0m \u001b[31m48.5 MB/s\u001b[0m eta \u001b[36m0:00:00\u001b[0m\n",
            "\u001b[?25hRequirement already satisfied: fonttools in /usr/local/lib/python3.10/dist-packages (from keras_ocr) (4.47.2)\n",
            "Requirement already satisfied: imgaug in /usr/local/lib/python3.10/dist-packages (from keras_ocr) (0.4.0)\n",
            "Collecting pyclipper (from keras_ocr)\n",
            "  Downloading pyclipper-1.3.0.post5-cp310-cp310-manylinux_2_12_x86_64.manylinux2010_x86_64.whl (908 kB)\n",
            "\u001b[2K     \u001b[90m━━━━━━━━━━━━━━━━━━━━━━━━━━━━━━━━━━━━━━━━\u001b[0m \u001b[32m908.3/908.3 kB\u001b[0m \u001b[31m45.7 MB/s\u001b[0m eta \u001b[36m0:00:00\u001b[0m\n",
            "\u001b[?25hRequirement already satisfied: shapely in /usr/local/lib/python3.10/dist-packages (from keras_ocr) (2.0.2)\n",
            "Requirement already satisfied: tqdm in /usr/local/lib/python3.10/dist-packages (from keras_ocr) (4.66.1)\n",
            "Collecting validators (from keras_ocr)\n",
            "  Downloading validators-0.22.0-py3-none-any.whl (26 kB)\n",
            "Collecting keras-applications<=1.0.8,>=1.0.7 (from efficientnet==1.0.0->keras_ocr)\n",
            "  Downloading Keras_Applications-1.0.8-py3-none-any.whl (50 kB)\n",
            "\u001b[2K     \u001b[90m━━━━━━━━━━━━━━━━━━━━━━━━━━━━━━━━━━━━━━━━\u001b[0m \u001b[32m50.7/50.7 kB\u001b[0m \u001b[31m5.9 MB/s\u001b[0m eta \u001b[36m0:00:00\u001b[0m\n",
            "\u001b[?25hRequirement already satisfied: scikit-image in /usr/local/lib/python3.10/dist-packages (from efficientnet==1.0.0->keras_ocr) (0.19.3)\n",
            "Requirement already satisfied: six in /usr/local/lib/python3.10/dist-packages (from imgaug->keras_ocr) (1.16.0)\n",
            "Requirement already satisfied: numpy>=1.15 in /usr/local/lib/python3.10/dist-packages (from imgaug->keras_ocr) (1.23.5)\n",
            "Requirement already satisfied: scipy in /usr/local/lib/python3.10/dist-packages (from imgaug->keras_ocr) (1.11.4)\n",
            "Requirement already satisfied: Pillow in /usr/local/lib/python3.10/dist-packages (from imgaug->keras_ocr) (9.4.0)\n",
            "Requirement already satisfied: matplotlib in /usr/local/lib/python3.10/dist-packages (from imgaug->keras_ocr) (3.7.1)\n",
            "Requirement already satisfied: opencv-python in /usr/local/lib/python3.10/dist-packages (from imgaug->keras_ocr) (4.8.0.76)\n",
            "Requirement already satisfied: imageio in /usr/local/lib/python3.10/dist-packages (from imgaug->keras_ocr) (2.31.6)\n",
            "Requirement already satisfied: h5py in /usr/local/lib/python3.10/dist-packages (from keras-applications<=1.0.8,>=1.0.7->efficientnet==1.0.0->keras_ocr) (3.9.0)\n",
            "Requirement already satisfied: networkx>=2.2 in /usr/local/lib/python3.10/dist-packages (from scikit-image->efficientnet==1.0.0->keras_ocr) (3.2.1)\n",
            "Requirement already satisfied: tifffile>=2019.7.26 in /usr/local/lib/python3.10/dist-packages (from scikit-image->efficientnet==1.0.0->keras_ocr) (2023.12.9)\n",
            "Requirement already satisfied: PyWavelets>=1.1.1 in /usr/local/lib/python3.10/dist-packages (from scikit-image->efficientnet==1.0.0->keras_ocr) (1.5.0)\n",
            "Requirement already satisfied: packaging>=20.0 in /usr/local/lib/python3.10/dist-packages (from scikit-image->efficientnet==1.0.0->keras_ocr) (23.2)\n",
            "Requirement already satisfied: contourpy>=1.0.1 in /usr/local/lib/python3.10/dist-packages (from matplotlib->imgaug->keras_ocr) (1.2.0)\n",
            "Requirement already satisfied: cycler>=0.10 in /usr/local/lib/python3.10/dist-packages (from matplotlib->imgaug->keras_ocr) (0.12.1)\n",
            "Requirement already satisfied: kiwisolver>=1.0.1 in /usr/local/lib/python3.10/dist-packages (from matplotlib->imgaug->keras_ocr) (1.4.5)\n",
            "Requirement already satisfied: pyparsing>=2.3.1 in /usr/local/lib/python3.10/dist-packages (from matplotlib->imgaug->keras_ocr) (3.1.1)\n",
            "Requirement already satisfied: python-dateutil>=2.7 in /usr/local/lib/python3.10/dist-packages (from matplotlib->imgaug->keras_ocr) (2.8.2)\n",
            "Installing collected packages: pyclipper, essential_generators, validators, keras-applications, efficientnet, keras_ocr\n",
            "Successfully installed efficientnet-1.0.0 essential_generators-1.0 keras-applications-1.0.8 keras_ocr-0.9.3 pyclipper-1.3.0.post5 validators-0.22.0\n",
            "Collecting pybind11\n",
            "  Downloading pybind11-2.11.1-py3-none-any.whl (227 kB)\n",
            "\u001b[2K     \u001b[90m━━━━━━━━━━━━━━━━━━━━━━━━━━━━━━━━━━━━━━━━\u001b[0m \u001b[32m227.7/227.7 kB\u001b[0m \u001b[31m4.9 MB/s\u001b[0m eta \u001b[36m0:00:00\u001b[0m\n",
            "\u001b[?25hInstalling collected packages: pybind11\n",
            "Successfully installed pybind11-2.11.1\n",
            "Collecting fastwer\n",
            "  Downloading fastwer-0.1.3.tar.gz (4.6 kB)\n",
            "  Preparing metadata (setup.py) ... \u001b[?25l\u001b[?25hdone\n",
            "Requirement already satisfied: pybind11 in /usr/local/lib/python3.10/dist-packages (from fastwer) (2.11.1)\n",
            "Building wheels for collected packages: fastwer\n",
            "  Building wheel for fastwer (setup.py) ... \u001b[?25l\u001b[?25hdone\n",
            "  Created wheel for fastwer: filename=fastwer-0.1.3-cp310-cp310-linux_x86_64.whl size=827754 sha256=41db714c37239f36fcfb60b6113f64038dcb329583c36ea29e5c81c0f8360e2c\n",
            "  Stored in directory: /root/.cache/pip/wheels/99/b5/22/f6edc9a914bf3b54ebc55e258e2f9aa2297908d85799de228f\n",
            "Successfully built fastwer\n",
            "Installing collected packages: fastwer\n",
            "Successfully installed fastwer-0.1.3\n"
          ]
        }
      ]
    },
    {
      "cell_type": "code",
      "execution_count": 2,
      "metadata": {
        "id": "LcUPRg6mOTTX",
        "colab": {
          "base_uri": "https://localhost:8080/"
        },
        "outputId": "dbc7f78e-a8ec-4b63-d010-821410fac617"
      },
      "outputs": [
        {
          "output_type": "stream",
          "name": "stdout",
          "text": [
            "Drive already mounted at /content/drive; to attempt to forcibly remount, call drive.mount(\"/content/drive\", force_remount=True).\n",
            "Looking for /root/.keras-ocr/craft_mlt_25k.h5\n",
            "Downloading /root/.keras-ocr/craft_mlt_25k.h5\n"
          ]
        },
        {
          "output_type": "stream",
          "name": "stderr",
          "text": [
            "WARNING:tensorflow:From /usr/local/lib/python3.10/dist-packages/tensorflow/python/util/dispatch.py:1260: resize_bilinear (from tensorflow.python.ops.image_ops_impl) is deprecated and will be removed in a future version.\n",
            "Instructions for updating:\n",
            "Use `tf.image.resize(...method=ResizeMethod.BILINEAR...)` instead.\n"
          ]
        },
        {
          "output_type": "stream",
          "name": "stdout",
          "text": [
            "Looking for /root/.keras-ocr/crnn_kurapan.h5\n",
            "Downloading /root/.keras-ocr/crnn_kurapan.h5\n"
          ]
        }
      ],
      "source": [
        "from google.colab import drive\n",
        "import os\n",
        "import keras_ocr\n",
        "import matplotlib.pyplot as plt\n",
        "import pandas as pd\n",
        "import fastwer\n",
        "import numpy as np\n",
        "\n",
        "\n",
        "\n",
        "drive.mount('/content/drive')\n",
        "pipeline = keras_ocr.pipeline.Pipeline()"
      ]
    },
    {
      "cell_type": "code",
      "source": [
        "images_folder = '/content/drive/MyDrive/immagini_nuovo'\n",
        "csv_folder = '/content/drive/MyDrive/original_text_nuovo'\n",
        "\n",
        "images = []\n",
        "labels = []\n",
        "true_texts = []\n",
        "\n",
        "for folder_class in os.listdir(images_folder):\n",
        "  path = csv_folder + '/' + folder_class + '.csv'\n",
        "  texts = pd.read_csv(path).values\n",
        "\n",
        "  #for value in df.values:\n",
        "   #true_text.append(value[0])\n",
        "\n",
        "  for file in os.listdir(images_folder + '/' + folder_class):\n",
        "    if file.lower().endswith(('.png', '.jpg', '.jpeg')):\n",
        "      images.append(images_folder + '/' + folder_class + '/' + file)\n",
        "      labels.append(folder_class)\n",
        "      index = int(file.split('.')[0])\n",
        "      true_texts.append(texts[index][0])\n"
      ],
      "metadata": {
        "id": "jpIo7r-tO9g0"
      },
      "execution_count": 3,
      "outputs": []
    },
    {
      "cell_type": "code",
      "source": [
        "images_path = images\n",
        "images = [keras_ocr.tools.read(img) for img in images]\n",
        "images = np.array(images)\n",
        "true_texts = np.array(true_texts)"
      ],
      "metadata": {
        "id": "V4xXuqjjPqCS",
        "colab": {
          "base_uri": "https://localhost:8080/"
        },
        "outputId": "b4e14b15-e3e2-408d-a6c3-b556b1cf3afe"
      },
      "execution_count": 4,
      "outputs": [
        {
          "output_type": "stream",
          "name": "stderr",
          "text": [
            "<ipython-input-4-15ab73f2a8d5>:3: VisibleDeprecationWarning: Creating an ndarray from ragged nested sequences (which is a list-or-tuple of lists-or-tuples-or ndarrays with different lengths or shapes) is deprecated. If you meant to do this, you must specify 'dtype=object' when creating the ndarray.\n",
            "  images = np.array(images)\n"
          ]
        }
      ]
    },
    {
      "cell_type": "code",
      "source": [
        "def visualize_images(images, grey=False):\n",
        "  f, grid_plot = plt.subplots(4, 5, figsize=(10,20))\n",
        "\n",
        "  if grey:\n",
        "    grid_plot[0,0].imshow(images[0], cmap='Greys')\n",
        "    grid_plot[0,1].imshow(images[1], cmap='Greys')\n",
        "    grid_plot[0,2].imshow(images[2], cmap='Greys')\n",
        "    grid_plot[0,3].imshow(images[3], cmap='Greys')\n",
        "    grid_plot[0,4].imshow(images[4], cmap='Greys')\n",
        "    grid_plot[1,0].imshow(images[5], cmap='Greys')\n",
        "    grid_plot[1,1].imshow(images[6], cmap='Greys')\n",
        "    grid_plot[1,2].imshow(images[7], cmap='Greys')\n",
        "    grid_plot[1,3].imshow(images[8], cmap='Greys')\n",
        "    grid_plot[1,4].imshow(images[9], cmap='Greys')\n",
        "    grid_plot[2,0].imshow(images[10], cmap='Greys')\n",
        "    grid_plot[2,1].imshow(images[11], cmap='Greys')\n",
        "    grid_plot[2,2].imshow(images[12], cmap='Greys')\n",
        "    grid_plot[2,3].imshow(images[13], cmap='Greys')\n",
        "    grid_plot[2,4].imshow(images[14], cmap='Greys')\n",
        "    grid_plot[3,0].imshow(images[15], cmap='Greys')\n",
        "    grid_plot[3,1].imshow(images[16], cmap='Greys')\n",
        "    grid_plot[3,2].imshow(images[17], cmap='Greys')\n",
        "    grid_plot[3,3].imshow(images[18], cmap='Greys')\n",
        "    grid_plot[3,4].imshow(images[19], cmap='Greys')\n",
        "  else:\n",
        "    grid_plot[0,0].imshow(images[0])\n",
        "    grid_plot[0,1].imshow(images[1])\n",
        "    grid_plot[0,2].imshow(images[2])\n",
        "    grid_plot[0,3].imshow(images[3])\n",
        "    grid_plot[0,4].imshow(images[4])\n",
        "    grid_plot[1,0].imshow(images[5])\n",
        "    grid_plot[1,1].imshow(images[6])\n",
        "    grid_plot[1,2].imshow(images[7])\n",
        "    grid_plot[1,3].imshow(images[8])\n",
        "    grid_plot[1,4].imshow(images[9])\n",
        "    grid_plot[2,0].imshow(images[10])\n",
        "    grid_plot[2,1].imshow(images[11])\n",
        "    grid_plot[2,2].imshow(images[12])\n",
        "    grid_plot[2,3].imshow(images[13])\n",
        "    grid_plot[2,4].imshow(images[14])\n",
        "    grid_plot[3,0].imshow(images[15])\n",
        "    grid_plot[3,1].imshow(images[16])\n",
        "    grid_plot[3,2].imshow(images[17])\n",
        "    grid_plot[3,3].imshow(images[18])\n",
        "    grid_plot[3,4].imshow(images[19])\n"
      ],
      "metadata": {
        "id": "Fa3_On_iTDJI"
      },
      "execution_count": 5,
      "outputs": []
    },
    {
      "cell_type": "code",
      "source": [
        "def resize_image(img, scale_percent=25):\n",
        "  width = int(img.shape[1] * scale_percent / 100)\n",
        "  height = int(img.shape[0] * scale_percent / 100)\n",
        "  dim = (width, height)\n",
        "\n",
        "  return cv2.resize(img, dim, interpolation = cv2.INTER_CUBIC)"
      ],
      "metadata": {
        "id": "IwUSr7S0uky4"
      },
      "execution_count": 6,
      "outputs": []
    },
    {
      "cell_type": "code",
      "source": [
        "import cv2\n",
        "import numpy as np\n",
        "\n",
        "def image_transform(images, t_type, scale = False):\n",
        "  transform_images = []\n",
        "  images_scaled = []\n",
        "\n",
        "  if scale:\n",
        "    for img in images:\n",
        "      images_scaled.append(resize_image(img, 25))\n",
        "  else:\n",
        "    images_scaled = images\n",
        "\n",
        "  for img in images:\n",
        "    if t_type == 'blur':\n",
        "      #image = cv2.GaussianBlur(img, (7, 7), 0)\n",
        "      image = cv2.blur(img, (7, 7))\n",
        "    elif t_type == 'rotation':\n",
        "      image = cv2.rotate(img, cv2.ROTATE_90_CLOCKWISE)\n",
        "    else:\n",
        "      #weights = [0.2989, 0.5870, 0.1140]\n",
        "      #image = np.dot(img[..., :3], weights)\n",
        "      image =  cv2.cvtColor(img, cv2.COLOR_BGR2GRAY)\n",
        "\n",
        "\n",
        "    transform_images.append(image)\n",
        "\n",
        "  return transform_images\n",
        "\n",
        "t_images = image_transform(images, 'gray') #rotation, blur o gray\n",
        "\n",
        "#visualize_images(images, False) #true gray, false blur e rotation\n",
        "#visualize_images(t_images, True) #true gray, false blur e rotation"
      ],
      "metadata": {
        "id": "T0h-4MD2z36_"
      },
      "execution_count": 7,
      "outputs": []
    },
    {
      "cell_type": "markdown",
      "source": [
        "# **Tesseract**\n"
      ],
      "metadata": {
        "id": "SLdbpw-jBoAj"
      }
    },
    {
      "cell_type": "code",
      "source": [
        "! sudo apt install tesseract-ocr"
      ],
      "metadata": {
        "id": "iu-GYde_B_ST",
        "colab": {
          "base_uri": "https://localhost:8080/"
        },
        "outputId": "6583fa6c-fa52-4e16-d003-be8241e9bd9e"
      },
      "execution_count": 8,
      "outputs": [
        {
          "output_type": "stream",
          "name": "stdout",
          "text": [
            "Reading package lists... Done\n",
            "Building dependency tree... Done\n",
            "Reading state information... Done\n",
            "The following additional packages will be installed:\n",
            "  tesseract-ocr-eng tesseract-ocr-osd\n",
            "The following NEW packages will be installed:\n",
            "  tesseract-ocr tesseract-ocr-eng tesseract-ocr-osd\n",
            "0 upgraded, 3 newly installed, 0 to remove and 31 not upgraded.\n",
            "Need to get 4,816 kB of archives.\n",
            "After this operation, 15.6 MB of additional disk space will be used.\n",
            "Get:1 http://archive.ubuntu.com/ubuntu jammy/universe amd64 tesseract-ocr-eng all 1:4.00~git30-7274cfa-1.1 [1,591 kB]\n",
            "Get:2 http://archive.ubuntu.com/ubuntu jammy/universe amd64 tesseract-ocr-osd all 1:4.00~git30-7274cfa-1.1 [2,990 kB]\n",
            "Get:3 http://archive.ubuntu.com/ubuntu jammy/universe amd64 tesseract-ocr amd64 4.1.1-2.1build1 [236 kB]\n",
            "Fetched 4,816 kB in 0s (24.0 MB/s)\n",
            "debconf: unable to initialize frontend: Dialog\n",
            "debconf: (No usable dialog-like program is installed, so the dialog based frontend cannot be used. at /usr/share/perl5/Debconf/FrontEnd/Dialog.pm line 78, <> line 3.)\n",
            "debconf: falling back to frontend: Readline\n",
            "debconf: unable to initialize frontend: Readline\n",
            "debconf: (This frontend requires a controlling tty.)\n",
            "debconf: falling back to frontend: Teletype\n",
            "dpkg-preconfigure: unable to re-open stdin: \n",
            "Selecting previously unselected package tesseract-ocr-eng.\n",
            "(Reading database ... 121671 files and directories currently installed.)\n",
            "Preparing to unpack .../tesseract-ocr-eng_1%3a4.00~git30-7274cfa-1.1_all.deb ...\n",
            "Unpacking tesseract-ocr-eng (1:4.00~git30-7274cfa-1.1) ...\n",
            "Selecting previously unselected package tesseract-ocr-osd.\n",
            "Preparing to unpack .../tesseract-ocr-osd_1%3a4.00~git30-7274cfa-1.1_all.deb ...\n",
            "Unpacking tesseract-ocr-osd (1:4.00~git30-7274cfa-1.1) ...\n",
            "Selecting previously unselected package tesseract-ocr.\n",
            "Preparing to unpack .../tesseract-ocr_4.1.1-2.1build1_amd64.deb ...\n",
            "Unpacking tesseract-ocr (4.1.1-2.1build1) ...\n",
            "Setting up tesseract-ocr-eng (1:4.00~git30-7274cfa-1.1) ...\n",
            "Setting up tesseract-ocr-osd (1:4.00~git30-7274cfa-1.1) ...\n",
            "Setting up tesseract-ocr (4.1.1-2.1build1) ...\n",
            "Processing triggers for man-db (2.10.2-1) ...\n"
          ]
        }
      ]
    },
    {
      "cell_type": "code",
      "source": [
        "!pip install pytesseract"
      ],
      "metadata": {
        "id": "035ig2HpA7pb",
        "colab": {
          "base_uri": "https://localhost:8080/"
        },
        "outputId": "3a8cf348-8237-4076-ad40-8eeabd79f84e"
      },
      "execution_count": 9,
      "outputs": [
        {
          "output_type": "stream",
          "name": "stdout",
          "text": [
            "Collecting pytesseract\n",
            "  Downloading pytesseract-0.3.10-py3-none-any.whl (14 kB)\n",
            "Requirement already satisfied: packaging>=21.3 in /usr/local/lib/python3.10/dist-packages (from pytesseract) (23.2)\n",
            "Requirement already satisfied: Pillow>=8.0.0 in /usr/local/lib/python3.10/dist-packages (from pytesseract) (9.4.0)\n",
            "Installing collected packages: pytesseract\n",
            "Successfully installed pytesseract-0.3.10\n"
          ]
        }
      ]
    },
    {
      "cell_type": "code",
      "source": [
        "# get grayscale image\n",
        "def get_grayscale(image):\n",
        "    return cv2.cvtColor(image, cv2.COLOR_BGR2GRAY)\n",
        "\n",
        "# noise removal\n",
        "def remove_noise(image):\n",
        "    return cv2.medianBlur(image,5)\n",
        "\n",
        "#thresholding\n",
        "def thresholding(image):\n",
        "    return cv2.threshold(image, 0, 255, cv2.THRESH_BINARY + cv2.THRESH_OTSU)[1]\n",
        "\n",
        "#dilation\n",
        "def dilate(image):\n",
        "    kernel = np.ones((5,5),np.uint8)\n",
        "    return cv2.dilate(image, kernel, iterations = 1)\n",
        "\n",
        "#erosion\n",
        "def erode(image):\n",
        "    kernel = np.ones((5,5),np.uint8)\n",
        "    return cv2.erode(image, kernel, iterations = 1)\n",
        "\n",
        "#opening - erosion followed by dilation\n",
        "def opening(image):\n",
        "    kernel = np.ones((5,5),np.uint8)\n",
        "    return cv2.morphologyEx(image, cv2.MORPH_OPEN, kernel)\n",
        "\n",
        "#canny edge detection\n",
        "def canny(image):\n",
        "    return cv2.Canny(image, 100, 200)\n",
        "\n"
      ],
      "metadata": {
        "id": "qaQcPw2QUSe6"
      },
      "execution_count": 10,
      "outputs": []
    },
    {
      "cell_type": "code",
      "source": [
        "import pytesseract\n",
        "from PIL import Image\n",
        "from matplotlib import cm\n",
        "\n",
        "custom_config = r'--oem 3 --psm 6'\n"
      ],
      "metadata": {
        "id": "VINf5KdECD8t"
      },
      "execution_count": 11,
      "outputs": []
    },
    {
      "cell_type": "code",
      "source": [
        "from re import L\n",
        "\n",
        "def ocr_on_tesseract(images, lang='eng'):\n",
        "  texts_pred = []\n",
        "\n",
        "  for image in images:\n",
        "    testo_estratto = pytesseract.image_to_string(Image.fromarray(image), lang='eng')\n",
        "    texts_pred.append(testo_estratto)\n",
        "\n",
        "  return texts_pred\n"
      ],
      "metadata": {
        "id": "oKRfKyzJDGMf"
      },
      "execution_count": 12,
      "outputs": []
    },
    {
      "cell_type": "code",
      "source": [
        "ocr_on_tesseract(images[0:3])"
      ],
      "metadata": {
        "colab": {
          "base_uri": "https://localhost:8080/"
        },
        "id": "WY-dwmvMqybd",
        "outputId": "09f3d586-d0d0-4f66-c46d-f05886dda622"
      },
      "execution_count": 13,
      "outputs": [
        {
          "output_type": "execute_result",
          "data": {
            "text/plain": [
              "[' \\n\\x0c',\n",
              " '  \\n\\x0c',\n",
              " ' \\n\\n      \\n\\nhie — ta =\\nSS — |\\n\\n%\\n\\n \\n\\n \\n\\n \\n\\n \\n\\n \\n\\n= y a <\\nSSE\\n\\n \\n\\n \\n\\n \\n\\n \\n\\x0c']"
            ]
          },
          "metadata": {},
          "execution_count": 13
        }
      ]
    },
    {
      "cell_type": "code",
      "source": [
        "#immagine"
      ],
      "metadata": {
        "id": "Ks5NwsMaGyV4"
      },
      "execution_count": 14,
      "outputs": []
    },
    {
      "cell_type": "markdown",
      "source": [
        "# **METRICHE**\n"
      ],
      "metadata": {
        "id": "GaO4dF7j99Kq"
      }
    },
    {
      "cell_type": "code",
      "source": [
        "def calculate_scores(pred_texts, true_texts):\n",
        "  scores_cer = [ fastwer.score_sent(pred_texts[i].lower(), true_texts[i].lower(), char_level=True) for i in range(len(pred_texts)) ]\n",
        "\n",
        "  scores_wer = [ fastwer.score_sent(pred_texts[i].lower(), true_texts[i].lower()) for i in range(len(pred_texts)) ]\n",
        "\n",
        "  return scores_cer, scores_wer"
      ],
      "metadata": {
        "id": "I4cq1jQyGKOH"
      },
      "execution_count": 15,
      "outputs": []
    },
    {
      "cell_type": "code",
      "source": [
        "def generate_csv(data_class, trans, cer, wer):\n",
        "  d = {'augmentation': trans, 'cer': cer, 'wer': wer}\n",
        "  df = pd.DataFrame(data=d)\n",
        "\n",
        "  csv_name = data_class + '.csv'\n",
        "  df.to_csv(csv_name, sep=',', index=False)\n",
        "  df"
      ],
      "metadata": {
        "id": "G8IEw8yIGL80"
      },
      "execution_count": 16,
      "outputs": []
    },
    {
      "cell_type": "code",
      "source": [
        "labels = np.array(labels)\n",
        "quality = ['high', 'low']\n",
        "augmentation = ['natural', 'blur', 'rotation', 'grey']\n",
        "\n",
        "for label in set(labels):\n",
        "  print(label)\n",
        "  class_index = np.where(labels==label)[0]\n",
        "  test_images = []\n",
        "\n",
        "  column_cer = []\n",
        "  column_wer = []\n",
        "  column_trans = []\n",
        "\n",
        "  for q in quality:\n",
        "    for a in augmentation:\n",
        "      print(q+'-'+a)\n",
        "      if a == 'natural' and q == 'low':\n",
        "        test_images = [resize_image(x) for x in images[class_index]]\n",
        "      elif a == 'natural' and q == 'high':\n",
        "        test_images = images[class_index]\n",
        "\n",
        "      if a != 'natural':\n",
        "        if q == 'high':\n",
        "          test_images = image_transform(images[class_index], a)\n",
        "        else:\n",
        "          test_images = image_transform(images[class_index], a, scale=True)\n",
        "\n",
        "      pred_texts = ocr_on_tesseract(test_images)\n",
        "\n",
        "      cer, wer = calculate_scores(pred_texts, true_texts[class_index])\n",
        "\n",
        "      column_cer.append(round(np.mean(cer), 2))\n",
        "      column_wer.append(round(np.mean(wer), 2))\n",
        "      column_trans.append(str(q)+'-'+str(a))\n",
        "\n",
        "  generate_csv(label, column_trans, column_cer, column_wer)"
      ],
      "metadata": {
        "colab": {
          "base_uri": "https://localhost:8080/"
        },
        "id": "aH5bmN65GMr9",
        "outputId": "47dcae31-6799-415c-e80b-aa75aaf068e0"
      },
      "execution_count": 17,
      "outputs": [
        {
          "output_type": "stream",
          "name": "stdout",
          "text": [
            "handwritten_texts\n",
            "high-natural\n",
            "high-blur\n",
            "high-rotation\n",
            "high-grey\n",
            "low-natural\n",
            "low-blur\n",
            "low-rotation\n",
            "low-grey\n",
            "structured_text\n",
            "high-natural\n",
            "high-blur\n",
            "high-rotation\n",
            "high-grey\n",
            "low-natural\n",
            "low-blur\n",
            "low-rotation\n",
            "low-grey\n",
            "car_plates\n",
            "high-natural\n",
            "high-blur\n",
            "high-rotation\n",
            "high-grey\n",
            "low-natural\n",
            "low-blur\n",
            "low-rotation\n",
            "low-grey\n",
            "unstructured_text\n",
            "high-natural\n",
            "high-blur\n",
            "high-rotation\n",
            "high-grey\n",
            "low-natural\n",
            "low-blur\n",
            "low-rotation\n",
            "low-grey\n"
          ]
        }
      ]
    }
  ]
}