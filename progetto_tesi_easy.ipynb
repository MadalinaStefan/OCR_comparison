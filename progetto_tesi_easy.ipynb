{
  "cells": [
    {
      "cell_type": "markdown",
      "metadata": {
        "id": "view-in-github",
        "colab_type": "text"
      },
      "source": [
        "<a href=\"https://colab.research.google.com/github/MadalinaStefan/OCR_comparison/blob/main/progetto_tesi_easy.ipynb\" target=\"_parent\"><img src=\"https://colab.research.google.com/assets/colab-badge.svg\" alt=\"Open In Colab\"/></a>"
      ]
    },
    {
      "cell_type": "markdown",
      "metadata": {
        "id": "AoXtmskQAusi"
      },
      "source": [
        "## **STANDARD**"
      ]
    },
    {
      "cell_type": "code",
      "execution_count": 1,
      "metadata": {
        "colab": {
          "base_uri": "https://localhost:8080/"
        },
        "id": "b70XPGSfSgZ0",
        "outputId": "d0b6b574-5808-4df7-c01e-0d61a5091641"
      },
      "outputs": [
        {
          "output_type": "stream",
          "name": "stdout",
          "text": [
            "Collecting keras_ocr\n",
            "  Downloading keras_ocr-0.9.3-py3-none-any.whl (42 kB)\n",
            "\u001b[2K     \u001b[90m━━━━━━━━━━━━━━━━━━━━━━━━━━━━━━━━━━━━━━━━\u001b[0m \u001b[32m42.3/42.3 kB\u001b[0m \u001b[31m1.3 MB/s\u001b[0m eta \u001b[36m0:00:00\u001b[0m\n",
            "\u001b[?25hRequirement already satisfied: editdistance in /usr/local/lib/python3.10/dist-packages (from keras_ocr) (0.6.2)\n",
            "Collecting efficientnet==1.0.0 (from keras_ocr)\n",
            "  Downloading efficientnet-1.0.0-py3-none-any.whl (17 kB)\n",
            "Collecting essential_generators (from keras_ocr)\n",
            "  Downloading essential_generators-1.0-py3-none-any.whl (9.5 MB)\n",
            "\u001b[2K     \u001b[90m━━━━━━━━━━━━━━━━━━━━━━━━━━━━━━━━━━━━━━━━\u001b[0m \u001b[32m9.5/9.5 MB\u001b[0m \u001b[31m23.2 MB/s\u001b[0m eta \u001b[36m0:00:00\u001b[0m\n",
            "\u001b[?25hRequirement already satisfied: fonttools in /usr/local/lib/python3.10/dist-packages (from keras_ocr) (4.47.2)\n",
            "Requirement already satisfied: imgaug in /usr/local/lib/python3.10/dist-packages (from keras_ocr) (0.4.0)\n",
            "Collecting pyclipper (from keras_ocr)\n",
            "  Downloading pyclipper-1.3.0.post5-cp310-cp310-manylinux_2_12_x86_64.manylinux2010_x86_64.whl (908 kB)\n",
            "\u001b[2K     \u001b[90m━━━━━━━━━━━━━━━━━━━━━━━━━━━━━━━━━━━━━━━━\u001b[0m \u001b[32m908.3/908.3 kB\u001b[0m \u001b[31m43.0 MB/s\u001b[0m eta \u001b[36m0:00:00\u001b[0m\n",
            "\u001b[?25hRequirement already satisfied: shapely in /usr/local/lib/python3.10/dist-packages (from keras_ocr) (2.0.2)\n",
            "Requirement already satisfied: tqdm in /usr/local/lib/python3.10/dist-packages (from keras_ocr) (4.66.1)\n",
            "Collecting validators (from keras_ocr)\n",
            "  Downloading validators-0.22.0-py3-none-any.whl (26 kB)\n",
            "Collecting keras-applications<=1.0.8,>=1.0.7 (from efficientnet==1.0.0->keras_ocr)\n",
            "  Downloading Keras_Applications-1.0.8-py3-none-any.whl (50 kB)\n",
            "\u001b[2K     \u001b[90m━━━━━━━━━━━━━━━━━━━━━━━━━━━━━━━━━━━━━━━━\u001b[0m \u001b[32m50.7/50.7 kB\u001b[0m \u001b[31m3.1 MB/s\u001b[0m eta \u001b[36m0:00:00\u001b[0m\n",
            "\u001b[?25hRequirement already satisfied: scikit-image in /usr/local/lib/python3.10/dist-packages (from efficientnet==1.0.0->keras_ocr) (0.19.3)\n",
            "Requirement already satisfied: six in /usr/local/lib/python3.10/dist-packages (from imgaug->keras_ocr) (1.16.0)\n",
            "Requirement already satisfied: numpy>=1.15 in /usr/local/lib/python3.10/dist-packages (from imgaug->keras_ocr) (1.23.5)\n",
            "Requirement already satisfied: scipy in /usr/local/lib/python3.10/dist-packages (from imgaug->keras_ocr) (1.11.4)\n",
            "Requirement already satisfied: Pillow in /usr/local/lib/python3.10/dist-packages (from imgaug->keras_ocr) (9.4.0)\n",
            "Requirement already satisfied: matplotlib in /usr/local/lib/python3.10/dist-packages (from imgaug->keras_ocr) (3.7.1)\n",
            "Requirement already satisfied: opencv-python in /usr/local/lib/python3.10/dist-packages (from imgaug->keras_ocr) (4.8.0.76)\n",
            "Requirement already satisfied: imageio in /usr/local/lib/python3.10/dist-packages (from imgaug->keras_ocr) (2.31.6)\n",
            "Requirement already satisfied: h5py in /usr/local/lib/python3.10/dist-packages (from keras-applications<=1.0.8,>=1.0.7->efficientnet==1.0.0->keras_ocr) (3.9.0)\n",
            "Requirement already satisfied: networkx>=2.2 in /usr/local/lib/python3.10/dist-packages (from scikit-image->efficientnet==1.0.0->keras_ocr) (3.2.1)\n",
            "Requirement already satisfied: tifffile>=2019.7.26 in /usr/local/lib/python3.10/dist-packages (from scikit-image->efficientnet==1.0.0->keras_ocr) (2023.12.9)\n",
            "Requirement already satisfied: PyWavelets>=1.1.1 in /usr/local/lib/python3.10/dist-packages (from scikit-image->efficientnet==1.0.0->keras_ocr) (1.5.0)\n",
            "Requirement already satisfied: packaging>=20.0 in /usr/local/lib/python3.10/dist-packages (from scikit-image->efficientnet==1.0.0->keras_ocr) (23.2)\n",
            "Requirement already satisfied: contourpy>=1.0.1 in /usr/local/lib/python3.10/dist-packages (from matplotlib->imgaug->keras_ocr) (1.2.0)\n",
            "Requirement already satisfied: cycler>=0.10 in /usr/local/lib/python3.10/dist-packages (from matplotlib->imgaug->keras_ocr) (0.12.1)\n",
            "Requirement already satisfied: kiwisolver>=1.0.1 in /usr/local/lib/python3.10/dist-packages (from matplotlib->imgaug->keras_ocr) (1.4.5)\n",
            "Requirement already satisfied: pyparsing>=2.3.1 in /usr/local/lib/python3.10/dist-packages (from matplotlib->imgaug->keras_ocr) (3.1.1)\n",
            "Requirement already satisfied: python-dateutil>=2.7 in /usr/local/lib/python3.10/dist-packages (from matplotlib->imgaug->keras_ocr) (2.8.2)\n",
            "Installing collected packages: pyclipper, essential_generators, validators, keras-applications, efficientnet, keras_ocr\n",
            "Successfully installed efficientnet-1.0.0 essential_generators-1.0 keras-applications-1.0.8 keras_ocr-0.9.3 pyclipper-1.3.0.post5 validators-0.22.0\n",
            "Collecting pybind11\n",
            "  Downloading pybind11-2.11.1-py3-none-any.whl (227 kB)\n",
            "\u001b[2K     \u001b[90m━━━━━━━━━━━━━━━━━━━━━━━━━━━━━━━━━━━━━━━━\u001b[0m \u001b[32m227.7/227.7 kB\u001b[0m \u001b[31m4.4 MB/s\u001b[0m eta \u001b[36m0:00:00\u001b[0m\n",
            "\u001b[?25hInstalling collected packages: pybind11\n",
            "Successfully installed pybind11-2.11.1\n",
            "Collecting fastwer\n",
            "  Downloading fastwer-0.1.3.tar.gz (4.6 kB)\n",
            "  Preparing metadata (setup.py) ... \u001b[?25l\u001b[?25hdone\n",
            "Requirement already satisfied: pybind11 in /usr/local/lib/python3.10/dist-packages (from fastwer) (2.11.1)\n",
            "Building wheels for collected packages: fastwer\n",
            "  Building wheel for fastwer (setup.py) ... \u001b[?25l\u001b[?25hdone\n",
            "  Created wheel for fastwer: filename=fastwer-0.1.3-cp310-cp310-linux_x86_64.whl size=827756 sha256=883ca266eae90eee4306ce4f6d3aaf9dd5a083b352d42447c058895146f5751b\n",
            "  Stored in directory: /root/.cache/pip/wheels/99/b5/22/f6edc9a914bf3b54ebc55e258e2f9aa2297908d85799de228f\n",
            "Successfully built fastwer\n",
            "Installing collected packages: fastwer\n",
            "Successfully installed fastwer-0.1.3\n"
          ]
        }
      ],
      "source": [
        "!pip install keras_ocr\n",
        "!pip install pybind11\n",
        "!pip3 install fastwer"
      ]
    },
    {
      "cell_type": "code",
      "execution_count": 2,
      "metadata": {
        "colab": {
          "base_uri": "https://localhost:8080/"
        },
        "id": "LcUPRg6mOTTX",
        "outputId": "2dca0bad-b21f-4f50-f445-507b9a79f221"
      },
      "outputs": [
        {
          "output_type": "stream",
          "name": "stdout",
          "text": [
            "Mounted at /content/drive\n",
            "Looking for /root/.keras-ocr/craft_mlt_25k.h5\n",
            "Downloading /root/.keras-ocr/craft_mlt_25k.h5\n"
          ]
        },
        {
          "output_type": "stream",
          "name": "stderr",
          "text": [
            "WARNING:tensorflow:From /usr/local/lib/python3.10/dist-packages/tensorflow/python/util/dispatch.py:1260: resize_bilinear (from tensorflow.python.ops.image_ops_impl) is deprecated and will be removed in a future version.\n",
            "Instructions for updating:\n",
            "Use `tf.image.resize(...method=ResizeMethod.BILINEAR...)` instead.\n"
          ]
        },
        {
          "output_type": "stream",
          "name": "stdout",
          "text": [
            "Looking for /root/.keras-ocr/crnn_kurapan.h5\n",
            "Downloading /root/.keras-ocr/crnn_kurapan.h5\n"
          ]
        }
      ],
      "source": [
        "from google.colab import drive\n",
        "import os\n",
        "import keras_ocr\n",
        "import matplotlib.pyplot as plt\n",
        "import pandas as pd\n",
        "import fastwer\n",
        "\n",
        "\n",
        "drive.mount('/content/drive')\n",
        "pipeline = keras_ocr.pipeline.Pipeline()"
      ]
    },
    {
      "cell_type": "code",
      "execution_count": 3,
      "metadata": {
        "id": "jpIo7r-tO9g0"
      },
      "outputs": [],
      "source": [
        "images_folder = '/content/drive/MyDrive/immagini_nuovo'\n",
        "csv_folder = '/content/drive/MyDrive/original_text_nuovo'\n",
        "\n",
        "images = []\n",
        "labels = []\n",
        "true_texts = []\n",
        "\n",
        "for folder_class in os.listdir(images_folder):\n",
        "  path = csv_folder + '/' + folder_class + '.csv'\n",
        "  texts = pd.read_csv(path).values\n",
        "\n",
        "  #for value in df.values:\n",
        "   #true_text.append(value[0])\n",
        "\n",
        "  for file in os.listdir(images_folder + '/' + folder_class):\n",
        "    if file.lower().endswith(('.png', '.jpg', '.jpeg')):\n",
        "      images.append(images_folder + '/' + folder_class + '/' + file)\n",
        "      labels.append(folder_class)\n",
        "      index = int(file.split('.')[0])\n",
        "      true_texts.append(texts[index][0])\n"
      ]
    },
    {
      "cell_type": "code",
      "execution_count": 4,
      "metadata": {
        "id": "pIWq7DcoSHyd"
      },
      "outputs": [],
      "source": [
        "import numpy as np"
      ]
    },
    {
      "cell_type": "code",
      "execution_count": 5,
      "metadata": {
        "colab": {
          "base_uri": "https://localhost:8080/"
        },
        "id": "V4xXuqjjPqCS",
        "outputId": "4b64b18a-70fd-48b8-ba55-1f5e16550982"
      },
      "outputs": [
        {
          "output_type": "stream",
          "name": "stderr",
          "text": [
            "<ipython-input-5-15ab73f2a8d5>:3: VisibleDeprecationWarning: Creating an ndarray from ragged nested sequences (which is a list-or-tuple of lists-or-tuples-or ndarrays with different lengths or shapes) is deprecated. If you meant to do this, you must specify 'dtype=object' when creating the ndarray.\n",
            "  images = np.array(images)\n"
          ]
        }
      ],
      "source": [
        "images_path = images\n",
        "images = [keras_ocr.tools.read(img) for img in images]\n",
        "images = np.array(images)\n",
        "true_texts = np.array(true_texts)"
      ]
    },
    {
      "cell_type": "code",
      "execution_count": 6,
      "metadata": {
        "id": "Fa3_On_iTDJI"
      },
      "outputs": [],
      "source": [
        "def visualize_images(images, grey=False):\n",
        "  f, grid_plot = plt.subplots(4, 5, figsize=(10,20))\n",
        "\n",
        "  if grey:\n",
        "    grid_plot[0,0].imshow(images[0], cmap='Greys')\n",
        "    grid_plot[0,1].imshow(images[1], cmap='Greys')\n",
        "    grid_plot[0,2].imshow(images[2], cmap='Greys')\n",
        "    grid_plot[0,3].imshow(images[3], cmap='Greys')\n",
        "    grid_plot[0,4].imshow(images[4], cmap='Greys')\n",
        "    grid_plot[1,0].imshow(images[5], cmap='Greys')\n",
        "    grid_plot[1,1].imshow(images[6], cmap='Greys')\n",
        "    grid_plot[1,2].imshow(images[7], cmap='Greys')\n",
        "    grid_plot[1,3].imshow(images[8], cmap='Greys')\n",
        "    grid_plot[1,4].imshow(images[9], cmap='Greys')\n",
        "    grid_plot[2,0].imshow(images[10], cmap='Greys')\n",
        "    grid_plot[2,1].imshow(images[11], cmap='Greys')\n",
        "    grid_plot[2,2].imshow(images[12], cmap='Greys')\n",
        "    grid_plot[2,3].imshow(images[13], cmap='Greys')\n",
        "    grid_plot[2,4].imshow(images[14], cmap='Greys')\n",
        "    grid_plot[3,0].imshow(images[15], cmap='Greys')\n",
        "    grid_plot[3,1].imshow(images[16], cmap='Greys')\n",
        "    grid_plot[3,2].imshow(images[17], cmap='Greys')\n",
        "    grid_plot[3,3].imshow(images[18], cmap='Greys')\n",
        "    grid_plot[3,4].imshow(images[19], cmap='Greys')\n",
        "  else:\n",
        "    grid_plot[0,0].imshow(images[0])\n",
        "    grid_plot[0,1].imshow(images[1])\n",
        "    grid_plot[0,2].imshow(images[2])\n",
        "    grid_plot[0,3].imshow(images[3])\n",
        "    grid_plot[0,4].imshow(images[4])\n",
        "    grid_plot[1,0].imshow(images[5])\n",
        "    grid_plot[1,1].imshow(images[6])\n",
        "    grid_plot[1,2].imshow(images[7])\n",
        "    grid_plot[1,3].imshow(images[8])\n",
        "    grid_plot[1,4].imshow(images[9])\n",
        "    grid_plot[2,0].imshow(images[10])\n",
        "    grid_plot[2,1].imshow(images[11])\n",
        "    grid_plot[2,2].imshow(images[12])\n",
        "    grid_plot[2,3].imshow(images[13])\n",
        "    grid_plot[2,4].imshow(images[14])\n",
        "    grid_plot[3,0].imshow(images[15])\n",
        "    grid_plot[3,1].imshow(images[16])\n",
        "    grid_plot[3,2].imshow(images[17])\n",
        "    grid_plot[3,3].imshow(images[18])\n",
        "    grid_plot[3,4].imshow(images[19])\n"
      ]
    },
    {
      "cell_type": "code",
      "execution_count": 7,
      "metadata": {
        "id": "XbZkFvUasDvq"
      },
      "outputs": [],
      "source": [
        "def resize_image(img, scale_percent=25):\n",
        "  width = int(img.shape[1] * scale_percent / 100)\n",
        "  height = int(img.shape[0] * scale_percent / 100)\n",
        "  dim = (width, height)\n",
        "\n",
        "  return cv2.resize(img, dim, interpolation = cv2.INTER_CUBIC)"
      ]
    },
    {
      "cell_type": "code",
      "execution_count": 8,
      "metadata": {
        "id": "eQyaHll2e-MN"
      },
      "outputs": [],
      "source": [
        "import cv2\n",
        "import numpy as np\n",
        "\n",
        "def image_transform(images, t_type, scale = False):\n",
        "  transform_images = []\n",
        "  images_scaled = []\n",
        "\n",
        "  if scale:\n",
        "    for img in images:\n",
        "      images_scaled.append(resize_image(img, 25))\n",
        "  else:\n",
        "    images_scaled = images\n",
        "\n",
        "  for img in images:\n",
        "    if t_type == 'blur':\n",
        "      #image = cv2.GaussianBlur(img, (7, 7), 0)\n",
        "      image = cv2.blur(img, (7, 7))\n",
        "    elif t_type == 'rotation':\n",
        "      image = cv2.rotate(img, cv2.ROTATE_90_CLOCKWISE)\n",
        "    else:\n",
        "      #weights = [0.2989, 0.5870, 0.1140]\n",
        "      #image = np.dot(img[..., :3], weights)\n",
        "      image =  cv2.cvtColor(img, cv2.COLOR_BGR2GRAY)\n",
        "\n",
        "\n",
        "    transform_images.append(image)\n",
        "\n",
        "  return transform_images\n",
        "\n",
        "t_images = image_transform(images, 'gray') #rotation, blur o gray\n",
        "\n",
        "#visualize_images(images, False) #true gray, false blur e rotation\n",
        "#visualize_images(t_images, True) #true gray, false blur e rotation"
      ]
    },
    {
      "cell_type": "markdown",
      "metadata": {
        "id": "SLdbpw-jBoAj"
      },
      "source": [
        "# **Easy-OCR**\n"
      ]
    },
    {
      "cell_type": "code",
      "execution_count": 9,
      "metadata": {
        "colab": {
          "base_uri": "https://localhost:8080/"
        },
        "id": "Hp1cyATFNjuh",
        "outputId": "32945e1a-8f26-437b-b437-94975e24c7fd"
      },
      "outputs": [
        {
          "output_type": "stream",
          "name": "stdout",
          "text": [
            "Collecting easyocr\n",
            "  Downloading easyocr-1.7.1-py3-none-any.whl (2.9 MB)\n",
            "\u001b[2K     \u001b[90m━━━━━━━━━━━━━━━━━━━━━━━━━━━━━━━━━━━━━━━━\u001b[0m \u001b[32m2.9/2.9 MB\u001b[0m \u001b[31m16.6 MB/s\u001b[0m eta \u001b[36m0:00:00\u001b[0m\n",
            "\u001b[?25hRequirement already satisfied: torch in /usr/local/lib/python3.10/dist-packages (from easyocr) (2.1.0+cu121)\n",
            "Requirement already satisfied: torchvision>=0.5 in /usr/local/lib/python3.10/dist-packages (from easyocr) (0.16.0+cu121)\n",
            "Requirement already satisfied: opencv-python-headless in /usr/local/lib/python3.10/dist-packages (from easyocr) (4.9.0.80)\n",
            "Requirement already satisfied: scipy in /usr/local/lib/python3.10/dist-packages (from easyocr) (1.11.4)\n",
            "Requirement already satisfied: numpy in /usr/local/lib/python3.10/dist-packages (from easyocr) (1.23.5)\n",
            "Requirement already satisfied: Pillow in /usr/local/lib/python3.10/dist-packages (from easyocr) (9.4.0)\n",
            "Requirement already satisfied: scikit-image in /usr/local/lib/python3.10/dist-packages (from easyocr) (0.19.3)\n",
            "Collecting python-bidi (from easyocr)\n",
            "  Downloading python_bidi-0.4.2-py2.py3-none-any.whl (30 kB)\n",
            "Requirement already satisfied: PyYAML in /usr/local/lib/python3.10/dist-packages (from easyocr) (6.0.1)\n",
            "Requirement already satisfied: Shapely in /usr/local/lib/python3.10/dist-packages (from easyocr) (2.0.2)\n",
            "Requirement already satisfied: pyclipper in /usr/local/lib/python3.10/dist-packages (from easyocr) (1.3.0.post5)\n",
            "Collecting ninja (from easyocr)\n",
            "  Downloading ninja-1.11.1.1-py2.py3-none-manylinux1_x86_64.manylinux_2_5_x86_64.whl (307 kB)\n",
            "\u001b[2K     \u001b[90m━━━━━━━━━━━━━━━━━━━━━━━━━━━━━━━━━━━━━━━━\u001b[0m \u001b[32m307.2/307.2 kB\u001b[0m \u001b[31m19.0 MB/s\u001b[0m eta \u001b[36m0:00:00\u001b[0m\n",
            "\u001b[?25hRequirement already satisfied: requests in /usr/local/lib/python3.10/dist-packages (from torchvision>=0.5->easyocr) (2.31.0)\n",
            "Requirement already satisfied: filelock in /usr/local/lib/python3.10/dist-packages (from torch->easyocr) (3.13.1)\n",
            "Requirement already satisfied: typing-extensions in /usr/local/lib/python3.10/dist-packages (from torch->easyocr) (4.5.0)\n",
            "Requirement already satisfied: sympy in /usr/local/lib/python3.10/dist-packages (from torch->easyocr) (1.12)\n",
            "Requirement already satisfied: networkx in /usr/local/lib/python3.10/dist-packages (from torch->easyocr) (3.2.1)\n",
            "Requirement already satisfied: jinja2 in /usr/local/lib/python3.10/dist-packages (from torch->easyocr) (3.1.3)\n",
            "Requirement already satisfied: fsspec in /usr/local/lib/python3.10/dist-packages (from torch->easyocr) (2023.6.0)\n",
            "Requirement already satisfied: triton==2.1.0 in /usr/local/lib/python3.10/dist-packages (from torch->easyocr) (2.1.0)\n",
            "Requirement already satisfied: six in /usr/local/lib/python3.10/dist-packages (from python-bidi->easyocr) (1.16.0)\n",
            "Requirement already satisfied: imageio>=2.4.1 in /usr/local/lib/python3.10/dist-packages (from scikit-image->easyocr) (2.31.6)\n",
            "Requirement already satisfied: tifffile>=2019.7.26 in /usr/local/lib/python3.10/dist-packages (from scikit-image->easyocr) (2023.12.9)\n",
            "Requirement already satisfied: PyWavelets>=1.1.1 in /usr/local/lib/python3.10/dist-packages (from scikit-image->easyocr) (1.5.0)\n",
            "Requirement already satisfied: packaging>=20.0 in /usr/local/lib/python3.10/dist-packages (from scikit-image->easyocr) (23.2)\n",
            "Requirement already satisfied: MarkupSafe>=2.0 in /usr/local/lib/python3.10/dist-packages (from jinja2->torch->easyocr) (2.1.4)\n",
            "Requirement already satisfied: charset-normalizer<4,>=2 in /usr/local/lib/python3.10/dist-packages (from requests->torchvision>=0.5->easyocr) (3.3.2)\n",
            "Requirement already satisfied: idna<4,>=2.5 in /usr/local/lib/python3.10/dist-packages (from requests->torchvision>=0.5->easyocr) (3.6)\n",
            "Requirement already satisfied: urllib3<3,>=1.21.1 in /usr/local/lib/python3.10/dist-packages (from requests->torchvision>=0.5->easyocr) (2.0.7)\n",
            "Requirement already satisfied: certifi>=2017.4.17 in /usr/local/lib/python3.10/dist-packages (from requests->torchvision>=0.5->easyocr) (2023.11.17)\n",
            "Requirement already satisfied: mpmath>=0.19 in /usr/local/lib/python3.10/dist-packages (from sympy->torch->easyocr) (1.3.0)\n",
            "Installing collected packages: ninja, python-bidi, easyocr\n",
            "Successfully installed easyocr-1.7.1 ninja-1.11.1.1 python-bidi-0.4.2\n"
          ]
        }
      ],
      "source": [
        "!pip3 install easyocr"
      ]
    },
    {
      "cell_type": "code",
      "execution_count": 10,
      "metadata": {
        "id": "qMSSoKKyNpTc"
      },
      "outputs": [],
      "source": [
        "from sys import prefix\n",
        "import os\n",
        "import easyocr\n",
        "\n",
        "def ocr_on_folder(images, language='en'):\n",
        "    reader = easyocr.Reader([language])\n",
        "    pred_texts = []\n",
        "\n",
        "    for i in range(len(images)):\n",
        "\n",
        "      result = reader.readtext(images[i])\n",
        "      text = ''\n",
        "      path = ''\n",
        "\n",
        "      for detection in result:\n",
        "        text += detection[1] + ' '\n",
        "\n",
        "      pred_texts.append(text[0:len(text)-1])\n",
        "\n",
        "    return pred_texts"
      ]
    },
    {
      "cell_type": "markdown",
      "metadata": {
        "id": "GaO4dF7j99Kq"
      },
      "source": [
        "# **Metriche di valutazione - STANDARD**\n"
      ]
    },
    {
      "cell_type": "code",
      "execution_count": 11,
      "metadata": {
        "id": "zYPOAEzeQVCs"
      },
      "outputs": [],
      "source": [
        "def calculate_scores(pred_texts, true_texts):\n",
        "  scores_cer = [ fastwer.score_sent(pred_texts[i].lower(), true_texts[i].lower(), char_level=True) for i in range(len(pred_texts)) ]\n",
        "\n",
        "  scores_wer = [ fastwer.score_sent(pred_texts[i].lower(), true_texts[i].lower()) for i in range(len(pred_texts)) ]\n",
        "\n",
        "  return scores_cer, scores_wer"
      ]
    },
    {
      "cell_type": "code",
      "execution_count": 12,
      "metadata": {
        "id": "OH5APkSHg2jh"
      },
      "outputs": [],
      "source": [
        "def generate_csv(data_class, trans, cer, wer):\n",
        "  d = {'augmentation': trans, 'cer': cer, 'wer': wer}\n",
        "  df = pd.DataFrame(data=d)\n",
        "\n",
        "  csv_name = data_class + '.csv'\n",
        "  df.to_csv(csv_name, sep=',', index=False)\n",
        "  df"
      ]
    },
    {
      "cell_type": "code",
      "execution_count": 13,
      "metadata": {
        "colab": {
          "base_uri": "https://localhost:8080/"
        },
        "id": "jiy-dTrlm_NI",
        "outputId": "d6ddaec2-87ef-454e-d829-dae969ef3d27"
      },
      "outputs": [
        {
          "output_type": "stream",
          "name": "stderr",
          "text": [
            "WARNING:easyocr.easyocr:Downloading detection model, please wait. This may take several minutes depending upon your network connection.\n"
          ]
        },
        {
          "output_type": "stream",
          "name": "stdout",
          "text": [
            "structured_text\n",
            "high-natural\n",
            "Progress: |██████████████████████████████████████████████████| 100.0% Complete"
          ]
        },
        {
          "output_type": "stream",
          "name": "stderr",
          "text": [
            "WARNING:easyocr.easyocr:Downloading recognition model, please wait. This may take several minutes depending upon your network connection.\n"
          ]
        },
        {
          "output_type": "stream",
          "name": "stdout",
          "text": [
            "Progress: |██████████████████████████████████████████████████| 100.0% Completehigh-blur\n",
            "high-rotation\n",
            "high-grey\n",
            "low-natural\n",
            "low-blur\n",
            "low-rotation\n",
            "low-grey\n",
            "car_plates\n",
            "high-natural\n",
            "high-blur\n",
            "high-rotation\n",
            "high-grey\n",
            "low-natural\n",
            "low-blur\n",
            "low-rotation\n",
            "low-grey\n",
            "unstructured_text\n",
            "high-natural\n",
            "high-blur\n",
            "high-rotation\n",
            "high-grey\n",
            "low-natural\n",
            "low-blur\n",
            "low-rotation\n",
            "low-grey\n",
            "handwritten_texts\n",
            "high-natural\n",
            "high-blur\n",
            "high-rotation\n",
            "high-grey\n",
            "low-natural\n",
            "low-blur\n",
            "low-rotation\n",
            "low-grey\n"
          ]
        }
      ],
      "source": [
        "labels = np.array(labels)\n",
        "quality = ['high', 'low']\n",
        "augmentation = ['natural', 'blur', 'rotation', 'grey']\n",
        "\n",
        "for label in set(labels):\n",
        "  print(label)\n",
        "  class_index = np.where(labels==label)[0]\n",
        "  test_images = []\n",
        "\n",
        "  column_cer = []\n",
        "  column_wer = []\n",
        "  column_trans = []\n",
        "\n",
        "  for q in quality:\n",
        "    for a in augmentation:\n",
        "      print(q+'-'+a)\n",
        "      if a == 'natural' and q == 'low':\n",
        "        test_images = [resize_image(x) for x in images[class_index]]\n",
        "      elif a == 'natural' and q == 'high':\n",
        "        test_images = images[class_index]\n",
        "\n",
        "      if a != 'natural':\n",
        "        if q == 'high':\n",
        "          test_images = image_transform(images[class_index], a)\n",
        "        else:\n",
        "          test_images = image_transform(images[class_index], a, scale=True)\n",
        "\n",
        "      pred_texts = ocr_on_folder(test_images)\n",
        "\n",
        "      cer, wer = calculate_scores(pred_texts, true_texts[class_index])\n",
        "\n",
        "      column_cer.append(round(np.mean(cer), 2))\n",
        "      column_wer.append(round(np.mean(wer), 2))\n",
        "      column_trans.append(str(q)+'-'+str(a))\n",
        "\n",
        "  generate_csv(label, column_trans, column_cer, column_wer)"
      ]
    },
    {
      "cell_type": "code",
      "execution_count": 14,
      "metadata": {
        "colab": {
          "base_uri": "https://localhost:8080/"
        },
        "id": "23m7NWTTxZ8B",
        "outputId": "7f6e339c-8423-40f1-d19a-aa6ac3e11a8b"
      },
      "outputs": [
        {
          "output_type": "stream",
          "name": "stdout",
          "text": [
            "structured_text\n",
            "high-natural\n",
            "high-blur\n",
            "high-rotation\n",
            "high-grey\n",
            "low-natural\n",
            "low-blur\n",
            "low-rotation\n",
            "low-grey\n",
            "car_plates\n",
            "high-natural\n",
            "high-blur\n",
            "high-rotation\n",
            "high-grey\n",
            "low-natural\n",
            "low-blur\n",
            "low-rotation\n",
            "low-grey\n",
            "unstructured_text\n",
            "high-natural\n",
            "high-blur\n",
            "high-rotation\n",
            "high-grey\n",
            "low-natural\n",
            "low-blur\n",
            "low-rotation\n",
            "low-grey\n",
            "handwritten_texts\n",
            "high-natural\n",
            "high-blur\n",
            "high-rotation\n",
            "high-grey\n",
            "low-natural\n",
            "low-blur\n",
            "low-rotation\n",
            "low-grey\n"
          ]
        }
      ],
      "source": [
        "labels = np.array(labels)\n",
        "quality = ['high', 'low']\n",
        "augmentation = ['natural', 'blur', 'rotation', 'grey']\n",
        "\n",
        "for label in set(labels):\n",
        "  print(label.lower())  # Convert label to lowercase\n",
        "  class_index = np.where(labels==label)[0]\n",
        "  test_images = []\n",
        "\n",
        "  column_cer = []\n",
        "  column_wer = []\n",
        "  column_trans = []\n",
        "\n",
        "  for q in quality:\n",
        "    for a in augmentation:\n",
        "      print(q.lower() + '-' + a.lower())  # Convert q and a to lowercase\n",
        "      if a == 'natural' and q == 'low':\n",
        "        test_images = [resize_image(x) for x in images[class_index]]\n",
        "      elif a == 'natural' and q == 'high':\n",
        "        test_images = images[class_index]\n",
        "\n",
        "      if a != 'natural':\n",
        "        if q == 'high':\n",
        "          test_images = image_transform(images[class_index], a)\n",
        "        else:\n",
        "          test_images = image_transform(images[class_index], a, scale=True)\n",
        "\n",
        "      pred_texts = ocr_on_folder(test_images)\n",
        "\n",
        "      cer, wer = calculate_scores(pred_texts, true_texts[class_index])\n",
        "\n",
        "      column_cer.append(round(np.mean(cer), 2))\n",
        "      column_wer.append(round(np.mean(wer), 2))\n",
        "      column_trans.append(str(q).lower() + '-' + str(a).lower())  # Convert q and a to lowercase\n",
        "\n",
        "  generate_csv(label.lower(), column_trans, column_cer, column_wer)\n"
      ]
    }
  ],
  "metadata": {
    "accelerator": "GPU",
    "colab": {
      "provenance": [],
      "mount_file_id": "1tS1llE1GQZX2NHR60cDjHTHez5puJen6",
      "authorship_tag": "ABX9TyM4TbQAsihO3qDHafKfI4Qq",
      "include_colab_link": true
    },
    "kernelspec": {
      "display_name": "Python 3",
      "name": "python3"
    },
    "language_info": {
      "name": "python"
    }
  },
  "nbformat": 4,
  "nbformat_minor": 0
}