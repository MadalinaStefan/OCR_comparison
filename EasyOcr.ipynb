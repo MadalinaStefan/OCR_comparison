{
  "cells": [
    {
      "cell_type": "markdown",
      "metadata": {
        "id": "view-in-github",
        "colab_type": "text"
      },
      "source": [
        "<a href=\"https://colab.research.google.com/github/MadalinaStefan/OCR_comparison/blob/main/EasyOcr.ipynb\" target=\"_parent\"><img src=\"https://colab.research.google.com/assets/colab-badge.svg\" alt=\"Open In Colab\"/></a>"
      ]
    },
    {
      "cell_type": "markdown",
      "metadata": {
        "id": "AoXtmskQAusi"
      },
      "source": [
        "# **I sistemi di riconoscimento ottico dei caratteri: confronto tra Keras Ocr, Tesseract e Easy Ocr**\n",
        "\n",
        "\n",
        "\n",
        "\n",
        "\n",
        "\n",
        "\n",
        "\n",
        "\n",
        "\n",
        "\n",
        "\n",
        "\n",
        "\n"
      ]
    },
    {
      "cell_type": "markdown",
      "metadata": {
        "id": "Tw0ev4OfRqrJ"
      },
      "source": [
        "La fase preliminare prevede l'installazione e l'importazione delle librerie necessarie.\n"
      ]
    },
    {
      "cell_type": "code",
      "execution_count": null,
      "metadata": {
        "colab": {
          "base_uri": "https://localhost:8080/"
        },
        "id": "b70XPGSfSgZ0",
        "outputId": "cae663b8-53c8-48bc-b83f-6c7183391800"
      },
      "outputs": [
        {
          "output_type": "stream",
          "name": "stdout",
          "text": [
            "Collecting keras_ocr\n",
            "  Downloading keras_ocr-0.9.3-py3-none-any.whl (42 kB)\n",
            "\u001b[?25l     \u001b[90m━━━━━━━━━━━━━━━━━━━━━━━━━━━━━━━━━━━━━━━━\u001b[0m \u001b[32m0.0/42.3 kB\u001b[0m \u001b[31m?\u001b[0m eta \u001b[36m-:--:--\u001b[0m\r\u001b[2K     \u001b[90m━━━━━━━━━━━━━━━━━━━━━━━━━━━━━━━━━━━━━━━━\u001b[0m \u001b[32m42.3/42.3 kB\u001b[0m \u001b[31m1.2 MB/s\u001b[0m eta \u001b[36m0:00:00\u001b[0m\n",
            "\u001b[?25hRequirement already satisfied: editdistance in /usr/local/lib/python3.10/dist-packages (from keras_ocr) (0.6.2)\n",
            "Collecting efficientnet==1.0.0 (from keras_ocr)\n",
            "  Downloading efficientnet-1.0.0-py3-none-any.whl (17 kB)\n",
            "Collecting essential_generators (from keras_ocr)\n",
            "  Downloading essential_generators-1.0-py3-none-any.whl (9.5 MB)\n",
            "\u001b[2K     \u001b[90m━━━━━━━━━━━━━━━━━━━━━━━━━━━━━━━━━━━━━━━━\u001b[0m \u001b[32m9.5/9.5 MB\u001b[0m \u001b[31m41.0 MB/s\u001b[0m eta \u001b[36m0:00:00\u001b[0m\n",
            "\u001b[?25hRequirement already satisfied: fonttools in /usr/local/lib/python3.10/dist-packages (from keras_ocr) (4.48.1)\n",
            "Requirement already satisfied: imgaug in /usr/local/lib/python3.10/dist-packages (from keras_ocr) (0.4.0)\n",
            "Collecting pyclipper (from keras_ocr)\n",
            "  Downloading pyclipper-1.3.0.post5-cp310-cp310-manylinux_2_12_x86_64.manylinux2010_x86_64.whl (908 kB)\n",
            "\u001b[2K     \u001b[90m━━━━━━━━━━━━━━━━━━━━━━━━━━━━━━━━━━━━━━━━\u001b[0m \u001b[32m908.3/908.3 kB\u001b[0m \u001b[31m48.5 MB/s\u001b[0m eta \u001b[36m0:00:00\u001b[0m\n",
            "\u001b[?25hRequirement already satisfied: shapely in /usr/local/lib/python3.10/dist-packages (from keras_ocr) (2.0.2)\n",
            "Requirement already satisfied: tqdm in /usr/local/lib/python3.10/dist-packages (from keras_ocr) (4.66.1)\n",
            "Collecting validators (from keras_ocr)\n",
            "  Downloading validators-0.22.0-py3-none-any.whl (26 kB)\n",
            "Collecting keras-applications<=1.0.8,>=1.0.7 (from efficientnet==1.0.0->keras_ocr)\n",
            "  Downloading Keras_Applications-1.0.8-py3-none-any.whl (50 kB)\n",
            "\u001b[2K     \u001b[90m━━━━━━━━━━━━━━━━━━━━━━━━━━━━━━━━━━━━━━━━\u001b[0m \u001b[32m50.7/50.7 kB\u001b[0m \u001b[31m4.8 MB/s\u001b[0m eta \u001b[36m0:00:00\u001b[0m\n",
            "\u001b[?25hRequirement already satisfied: scikit-image in /usr/local/lib/python3.10/dist-packages (from efficientnet==1.0.0->keras_ocr) (0.19.3)\n",
            "Requirement already satisfied: six in /usr/local/lib/python3.10/dist-packages (from imgaug->keras_ocr) (1.16.0)\n",
            "Requirement already satisfied: numpy>=1.15 in /usr/local/lib/python3.10/dist-packages (from imgaug->keras_ocr) (1.23.5)\n",
            "Requirement already satisfied: scipy in /usr/local/lib/python3.10/dist-packages (from imgaug->keras_ocr) (1.11.4)\n",
            "Requirement already satisfied: Pillow in /usr/local/lib/python3.10/dist-packages (from imgaug->keras_ocr) (9.4.0)\n",
            "Requirement already satisfied: matplotlib in /usr/local/lib/python3.10/dist-packages (from imgaug->keras_ocr) (3.7.1)\n",
            "Requirement already satisfied: opencv-python in /usr/local/lib/python3.10/dist-packages (from imgaug->keras_ocr) (4.8.0.76)\n",
            "Requirement already satisfied: imageio in /usr/local/lib/python3.10/dist-packages (from imgaug->keras_ocr) (2.31.6)\n",
            "Requirement already satisfied: h5py in /usr/local/lib/python3.10/dist-packages (from keras-applications<=1.0.8,>=1.0.7->efficientnet==1.0.0->keras_ocr) (3.9.0)\n",
            "Requirement already satisfied: networkx>=2.2 in /usr/local/lib/python3.10/dist-packages (from scikit-image->efficientnet==1.0.0->keras_ocr) (3.2.1)\n",
            "Requirement already satisfied: tifffile>=2019.7.26 in /usr/local/lib/python3.10/dist-packages (from scikit-image->efficientnet==1.0.0->keras_ocr) (2024.1.30)\n",
            "Requirement already satisfied: PyWavelets>=1.1.1 in /usr/local/lib/python3.10/dist-packages (from scikit-image->efficientnet==1.0.0->keras_ocr) (1.5.0)\n",
            "Requirement already satisfied: packaging>=20.0 in /usr/local/lib/python3.10/dist-packages (from scikit-image->efficientnet==1.0.0->keras_ocr) (23.2)\n",
            "Requirement already satisfied: contourpy>=1.0.1 in /usr/local/lib/python3.10/dist-packages (from matplotlib->imgaug->keras_ocr) (1.2.0)\n",
            "Requirement already satisfied: cycler>=0.10 in /usr/local/lib/python3.10/dist-packages (from matplotlib->imgaug->keras_ocr) (0.12.1)\n",
            "Requirement already satisfied: kiwisolver>=1.0.1 in /usr/local/lib/python3.10/dist-packages (from matplotlib->imgaug->keras_ocr) (1.4.5)\n",
            "Requirement already satisfied: pyparsing>=2.3.1 in /usr/local/lib/python3.10/dist-packages (from matplotlib->imgaug->keras_ocr) (3.1.1)\n",
            "Requirement already satisfied: python-dateutil>=2.7 in /usr/local/lib/python3.10/dist-packages (from matplotlib->imgaug->keras_ocr) (2.8.2)\n",
            "Installing collected packages: pyclipper, essential_generators, validators, keras-applications, efficientnet, keras_ocr\n",
            "Successfully installed efficientnet-1.0.0 essential_generators-1.0 keras-applications-1.0.8 keras_ocr-0.9.3 pyclipper-1.3.0.post5 validators-0.22.0\n",
            "Collecting pybind11\n",
            "  Downloading pybind11-2.11.1-py3-none-any.whl (227 kB)\n",
            "\u001b[2K     \u001b[90m━━━━━━━━━━━━━━━━━━━━━━━━━━━━━━━━━━━━━━━━\u001b[0m \u001b[32m227.7/227.7 kB\u001b[0m \u001b[31m3.7 MB/s\u001b[0m eta \u001b[36m0:00:00\u001b[0m\n",
            "\u001b[?25hInstalling collected packages: pybind11\n",
            "Successfully installed pybind11-2.11.1\n",
            "Collecting fastwer\n",
            "  Downloading fastwer-0.1.3.tar.gz (4.6 kB)\n",
            "  Preparing metadata (setup.py) ... \u001b[?25l\u001b[?25hdone\n",
            "Requirement already satisfied: pybind11 in /usr/local/lib/python3.10/dist-packages (from fastwer) (2.11.1)\n",
            "Building wheels for collected packages: fastwer\n",
            "  Building wheel for fastwer (setup.py) ... \u001b[?25l\u001b[?25hdone\n",
            "  Created wheel for fastwer: filename=fastwer-0.1.3-cp310-cp310-linux_x86_64.whl size=827754 sha256=0f880fc36bc2aa4429932018e3d74f4a6c779fb95ff1e72b239fd1bdb7b62b94\n",
            "  Stored in directory: /root/.cache/pip/wheels/99/b5/22/f6edc9a914bf3b54ebc55e258e2f9aa2297908d85799de228f\n",
            "Successfully built fastwer\n",
            "Installing collected packages: fastwer\n",
            "Successfully installed fastwer-0.1.3\n"
          ]
        }
      ],
      "source": [
        "!pip install keras_ocr\n",
        "!pip install pybind11\n",
        "!pip3 install fastwer"
      ]
    },
    {
      "cell_type": "markdown",
      "metadata": {
        "id": "sWJoAOOy6yms"
      },
      "source": [
        "Il dataset di immagini (cartella \"dataset_immagini\") e i file .csv conteneti il golden text (cartella \"golden_text\") sono situati e vengono importati da google Drive."
      ]
    },
    {
      "cell_type": "code",
      "execution_count": null,
      "metadata": {
        "colab": {
          "base_uri": "https://localhost:8080/"
        },
        "id": "LcUPRg6mOTTX",
        "outputId": "b44833d1-da7f-42b0-c213-d52874f6a2a4"
      },
      "outputs": [
        {
          "output_type": "stream",
          "name": "stdout",
          "text": [
            "Mounted at /content/drive\n",
            "Looking for /root/.keras-ocr/craft_mlt_25k.h5\n",
            "Downloading /root/.keras-ocr/craft_mlt_25k.h5\n"
          ]
        },
        {
          "output_type": "stream",
          "name": "stderr",
          "text": [
            "WARNING:tensorflow:From /usr/local/lib/python3.10/dist-packages/tensorflow/python/util/dispatch.py:1260: resize_bilinear (from tensorflow.python.ops.image_ops_impl) is deprecated and will be removed in a future version.\n",
            "Instructions for updating:\n",
            "Use `tf.image.resize(...method=ResizeMethod.BILINEAR...)` instead.\n"
          ]
        },
        {
          "output_type": "stream",
          "name": "stdout",
          "text": [
            "Looking for /root/.keras-ocr/crnn_kurapan.h5\n",
            "Downloading /root/.keras-ocr/crnn_kurapan.h5\n"
          ]
        }
      ],
      "source": [
        "from google.colab import drive\n",
        "import os\n",
        "import keras_ocr\n",
        "import matplotlib.pyplot as plt\n",
        "import pandas as pd\n",
        "import fastwer\n",
        "\n",
        "\n",
        "drive.mount('/content/drive')\n",
        "pipeline = keras_ocr.pipeline.Pipeline()"
      ]
    },
    {
      "cell_type": "markdown",
      "source": [
        "### Acquisizione delle immagini"
      ],
      "metadata": {
        "id": "bSpfWR_8RGZd"
      }
    },
    {
      "cell_type": "markdown",
      "metadata": {
        "id": "XGE0RGBk9Ey4"
      },
      "source": [
        "Il codice seguente è stato utilizzato per associare a ciasciuna immagine (contenuta nel dataset immagini), il corrispettivo testo golden. Vengono create inizialmente tre liste vuote che verranno popolate con le immagini, le cartelle e il testo golden.\n",
        "Ad ogni elemento presente nel dataset delle immagini, divise per tipologia, viene associato il corrispondente file .csv che contiene i testi golden di quella determinata categoria di immagini. L'associazione viene effetuata attraverso la corrispondenza dei nomi delle cartelle del dataset e dei nomi dei file .csv.\n"
      ]
    },
    {
      "cell_type": "code",
      "execution_count": null,
      "metadata": {
        "id": "jpIo7r-tO9g0"
      },
      "outputs": [],
      "source": [
        "images_folder = '/content/drive/MyDrive/dataset_immagini'\n",
        "csv_folder = '/content/drive/MyDrive/golden_text'\n",
        "\n",
        "images = []\n",
        "labels = []\n",
        "true_texts = []\n",
        "\n",
        "for folder_class in os.listdir(images_folder):\n",
        "  path = csv_folder + '/' + folder_class + '.csv'\n",
        "  texts = pd.read_csv(path).values\n",
        "\n",
        "\n",
        "  for file in os.listdir(images_folder + '/' + folder_class):\n",
        "    if file.lower().endswith(('.png', '.jpg', '.jpeg')):\n",
        "      images.append(images_folder + '/' + folder_class + '/' + file)\n",
        "      labels.append(folder_class)\n",
        "      index = int(file.split('.')[0])\n",
        "      true_texts.append(texts[index][0])\n"
      ]
    },
    {
      "cell_type": "code",
      "execution_count": null,
      "metadata": {
        "id": "pIWq7DcoSHyd"
      },
      "outputs": [],
      "source": [
        "import numpy as np"
      ]
    },
    {
      "cell_type": "markdown",
      "metadata": {
        "id": "sXzn9nt0onn0"
      },
      "source": [
        "Le immagini vengono lette attraverso keras_ocr e successivamente convertite in array."
      ]
    },
    {
      "cell_type": "code",
      "execution_count": null,
      "metadata": {
        "colab": {
          "base_uri": "https://localhost:8080/"
        },
        "id": "V4xXuqjjPqCS",
        "outputId": "ea97138c-516c-4bb3-d402-25d70e7e0c1d"
      },
      "outputs": [
        {
          "output_type": "stream",
          "name": "stderr",
          "text": [
            "<ipython-input-5-7386cf35e8e4>:3: VisibleDeprecationWarning: Creating an ndarray from ragged nested sequences (which is a list-or-tuple of lists-or-tuples-or ndarrays with different lengths or shapes) is deprecated. If you meant to do this, you must specify 'dtype=object' when creating the ndarray.\n",
            "  images = np.array(images)\n"
          ]
        }
      ],
      "source": [
        "images_path = images\n",
        "images = [keras_ocr.tools.read(img) for img in images]\n",
        "images = np.array(images)\n",
        "images_path = np.array(images_path)\n",
        "true_texts = np.array(true_texts)"
      ]
    },
    {
      "cell_type": "markdown",
      "source": [
        "### Visualizzazione delle immagini\n",
        "\n",
        "\n"
      ],
      "metadata": {
        "id": "FaPESqjgRLqt"
      }
    },
    {
      "cell_type": "markdown",
      "metadata": {
        "id": "KypA7-8KpCTa"
      },
      "source": [
        "La funzione visualize_images permette di visualizzare le immagini in una griglia di 4 righe e 5 colonne. Prende in input l'elenco delle immagini; con il parametro gray permette di visualizzare le immagini in negativo."
      ]
    },
    {
      "cell_type": "code",
      "execution_count": null,
      "metadata": {
        "id": "Fa3_On_iTDJI"
      },
      "outputs": [],
      "source": [
        "def visualize_images(images, grey=False):\n",
        "  f, grid_plot = plt.subplots(4, 5, figsize=(20,40))\n",
        "\n",
        "  if grey:\n",
        "    grid_plot[0,0].imshow(images[0], cmap='Greys')\n",
        "    grid_plot[0,1].imshow(images[1], cmap='Greys')\n",
        "    grid_plot[0,2].imshow(images[2], cmap='Greys')\n",
        "    grid_plot[0,3].imshow(images[3], cmap='Greys')\n",
        "    grid_plot[0,4].imshow(images[4], cmap='Greys')\n",
        "    grid_plot[1,0].imshow(images[5], cmap='Greys')\n",
        "    grid_plot[1,1].imshow(images[6], cmap='Greys')\n",
        "    grid_plot[1,2].imshow(images[7], cmap='Greys')\n",
        "    grid_plot[1,3].imshow(images[8], cmap='Greys')\n",
        "    grid_plot[1,4].imshow(images[9], cmap='Greys')\n",
        "    grid_plot[2,0].imshow(images[10], cmap='Greys')\n",
        "    grid_plot[2,1].imshow(images[11], cmap='Greys')\n",
        "    grid_plot[2,2].imshow(images[12], cmap='Greys')\n",
        "    grid_plot[2,3].imshow(images[13], cmap='Greys')\n",
        "    grid_plot[2,4].imshow(images[14], cmap='Greys')\n",
        "    grid_plot[3,0].imshow(images[15], cmap='Greys')\n",
        "    grid_plot[3,1].imshow(images[16], cmap='Greys')\n",
        "    grid_plot[3,2].imshow(images[17], cmap='Greys')\n",
        "    grid_plot[3,3].imshow(images[18], cmap='Greys')\n",
        "    grid_plot[3,4].imshow(images[19], cmap='Greys')\n",
        "  else:\n",
        "    grid_plot[0,0].imshow(images[0])\n",
        "    grid_plot[0,1].imshow(images[1])\n",
        "    grid_plot[0,2].imshow(images[2])\n",
        "    grid_plot[0,3].imshow(images[3])\n",
        "    grid_plot[0,4].imshow(images[4])\n",
        "    grid_plot[1,0].imshow(images[5])\n",
        "    grid_plot[1,1].imshow(images[6])\n",
        "    grid_plot[1,2].imshow(images[7])\n",
        "    grid_plot[1,3].imshow(images[8])\n",
        "    grid_plot[1,4].imshow(images[9])\n",
        "    grid_plot[2,0].imshow(images[10])\n",
        "    grid_plot[2,1].imshow(images[11])\n",
        "    grid_plot[2,2].imshow(images[12])\n",
        "    grid_plot[2,3].imshow(images[13])\n",
        "    grid_plot[2,4].imshow(images[14])\n",
        "    grid_plot[3,0].imshow(images[15])\n",
        "    grid_plot[3,1].imshow(images[16])\n",
        "    grid_plot[3,2].imshow(images[17])\n",
        "    grid_plot[3,3].imshow(images[18])\n",
        "    grid_plot[3,4].imshow(images[19])\n"
      ]
    },
    {
      "cell_type": "markdown",
      "source": [
        "### Ridimensionamento immagini"
      ],
      "metadata": {
        "id": "MvTU42OaRSMG"
      }
    },
    {
      "cell_type": "markdown",
      "metadata": {
        "id": "pku98EkMrQKy"
      },
      "source": [
        "Le immagini vengono ridimensionate attraverso la funzione resize_image, la quale prende le immagini e con il parametro scale_percent impostato a 25, le ridimensiona del 25% rispetto alle dimensioni originali. Le dimensioni di larghezza e altezza vengono calcolate sulla base della percentuale di ridimensionamento."
      ]
    },
    {
      "cell_type": "code",
      "execution_count": null,
      "metadata": {
        "id": "XbZkFvUasDvq"
      },
      "outputs": [],
      "source": [
        "def resize_image(img, scale_percent=25):\n",
        "  width = int(img.shape[1] * scale_percent / 100)\n",
        "  height = int(img.shape[0] * scale_percent / 100)\n",
        "  dim = (width, height)\n",
        "\n",
        "  return cv2.resize(img, dim, interpolation = cv2.INTER_CUBIC)"
      ]
    },
    {
      "cell_type": "markdown",
      "source": [
        "### Pre-elaborazione"
      ],
      "metadata": {
        "id": "1YrkWGh9RXyj"
      }
    },
    {
      "cell_type": "markdown",
      "metadata": {
        "id": "6F535tDIw0zh"
      },
      "source": [
        "Nella fase di pre-elaborazione le immagini subiscono tre trasformazioni: offuscamento, rotazione di 90º e conversione in negativo. Le trasformazioni si applicano sia sulle immegini high quality (le immagini originali del dataset) e sia sulle immagini ridimensionate, che verranno definite come immagini low quality. Infine vengono visualizzate le immagini, con il paramentro false vengono visualizzate le immagini originali, con il parametro true applicato alle immagini trasformate verranno visualizzate le immagini con la trasformazione selezionata."
      ]
    },
    {
      "cell_type": "code",
      "execution_count": null,
      "metadata": {
        "id": "eQyaHll2e-MN"
      },
      "outputs": [],
      "source": [
        "import cv2\n",
        "import numpy as np\n",
        "\n",
        "def image_transform(images, t_type, scale = False):\n",
        "  transform_images = []\n",
        "  images_scaled = []\n",
        "\n",
        "  if scale:\n",
        "    for img in images:\n",
        "      images_scaled.append(resize_image(img, 25))\n",
        "  else:\n",
        "    images_scaled = images\n",
        "\n",
        "  for img in images:\n",
        "    if t_type == 'blur':\n",
        "      image = cv2.blur(img, (7, 7))\n",
        "    elif t_type == 'rotation':\n",
        "      image = cv2.rotate(img, cv2.ROTATE_90_CLOCKWISE)\n",
        "    else:\n",
        "      image =  cv2.cvtColor(img, cv2.COLOR_BGR2GRAY)\n",
        "\n",
        "\n",
        "    transform_images.append(image)\n",
        "\n",
        "  return transform_images\n",
        "\n",
        "#t_images = image_transform(images, 'gray') #rotation, blur, gray\n",
        "\n",
        "visualize_images(images, False) #visualizza le immagini natural\n",
        "#visualize_images(t_images, True) #visualizza le trasformazioni"
      ]
    },
    {
      "cell_type": "markdown",
      "metadata": {
        "id": "SLdbpw-jBoAj"
      },
      "source": [
        "# **Easy-OCR**\n"
      ]
    },
    {
      "cell_type": "code",
      "execution_count": null,
      "metadata": {
        "colab": {
          "base_uri": "https://localhost:8080/"
        },
        "id": "Hp1cyATFNjuh",
        "outputId": "bd7310fd-56bb-4d76-eb89-01c4a2ce1e21"
      },
      "outputs": [
        {
          "output_type": "stream",
          "name": "stdout",
          "text": [
            "Collecting easyocr\n",
            "  Downloading easyocr-1.7.1-py3-none-any.whl (2.9 MB)\n",
            "\u001b[2K     \u001b[90m━━━━━━━━━━━━━━━━━━━━━━━━━━━━━━━━━━━━━━━━\u001b[0m \u001b[32m2.9/2.9 MB\u001b[0m \u001b[31m8.4 MB/s\u001b[0m eta \u001b[36m0:00:00\u001b[0m\n",
            "\u001b[?25hRequirement already satisfied: torch in /usr/local/lib/python3.10/dist-packages (from easyocr) (2.1.0+cu121)\n",
            "Requirement already satisfied: torchvision>=0.5 in /usr/local/lib/python3.10/dist-packages (from easyocr) (0.16.0+cu121)\n",
            "Requirement already satisfied: opencv-python-headless in /usr/local/lib/python3.10/dist-packages (from easyocr) (4.9.0.80)\n",
            "Requirement already satisfied: scipy in /usr/local/lib/python3.10/dist-packages (from easyocr) (1.11.4)\n",
            "Requirement already satisfied: numpy in /usr/local/lib/python3.10/dist-packages (from easyocr) (1.23.5)\n",
            "Requirement already satisfied: Pillow in /usr/local/lib/python3.10/dist-packages (from easyocr) (9.4.0)\n",
            "Requirement already satisfied: scikit-image in /usr/local/lib/python3.10/dist-packages (from easyocr) (0.19.3)\n",
            "Collecting python-bidi (from easyocr)\n",
            "  Downloading python_bidi-0.4.2-py2.py3-none-any.whl (30 kB)\n",
            "Requirement already satisfied: PyYAML in /usr/local/lib/python3.10/dist-packages (from easyocr) (6.0.1)\n",
            "Requirement already satisfied: Shapely in /usr/local/lib/python3.10/dist-packages (from easyocr) (2.0.2)\n",
            "Requirement already satisfied: pyclipper in /usr/local/lib/python3.10/dist-packages (from easyocr) (1.3.0.post5)\n",
            "Collecting ninja (from easyocr)\n",
            "  Downloading ninja-1.11.1.1-py2.py3-none-manylinux1_x86_64.manylinux_2_5_x86_64.whl (307 kB)\n",
            "\u001b[2K     \u001b[90m━━━━━━━━━━━━━━━━━━━━━━━━━━━━━━━━━━━━━━━━\u001b[0m \u001b[32m307.2/307.2 kB\u001b[0m \u001b[31m4.0 MB/s\u001b[0m eta \u001b[36m0:00:00\u001b[0m\n",
            "\u001b[?25hRequirement already satisfied: requests in /usr/local/lib/python3.10/dist-packages (from torchvision>=0.5->easyocr) (2.31.0)\n",
            "Requirement already satisfied: filelock in /usr/local/lib/python3.10/dist-packages (from torch->easyocr) (3.13.1)\n",
            "Requirement already satisfied: typing-extensions in /usr/local/lib/python3.10/dist-packages (from torch->easyocr) (4.9.0)\n",
            "Requirement already satisfied: sympy in /usr/local/lib/python3.10/dist-packages (from torch->easyocr) (1.12)\n",
            "Requirement already satisfied: networkx in /usr/local/lib/python3.10/dist-packages (from torch->easyocr) (3.2.1)\n",
            "Requirement already satisfied: jinja2 in /usr/local/lib/python3.10/dist-packages (from torch->easyocr) (3.1.3)\n",
            "Requirement already satisfied: fsspec in /usr/local/lib/python3.10/dist-packages (from torch->easyocr) (2023.6.0)\n",
            "Requirement already satisfied: triton==2.1.0 in /usr/local/lib/python3.10/dist-packages (from torch->easyocr) (2.1.0)\n",
            "Requirement already satisfied: six in /usr/local/lib/python3.10/dist-packages (from python-bidi->easyocr) (1.16.0)\n",
            "Requirement already satisfied: imageio>=2.4.1 in /usr/local/lib/python3.10/dist-packages (from scikit-image->easyocr) (2.31.6)\n",
            "Requirement already satisfied: tifffile>=2019.7.26 in /usr/local/lib/python3.10/dist-packages (from scikit-image->easyocr) (2024.1.30)\n",
            "Requirement already satisfied: PyWavelets>=1.1.1 in /usr/local/lib/python3.10/dist-packages (from scikit-image->easyocr) (1.5.0)\n",
            "Requirement already satisfied: packaging>=20.0 in /usr/local/lib/python3.10/dist-packages (from scikit-image->easyocr) (23.2)\n",
            "Requirement already satisfied: MarkupSafe>=2.0 in /usr/local/lib/python3.10/dist-packages (from jinja2->torch->easyocr) (2.1.5)\n",
            "Requirement already satisfied: charset-normalizer<4,>=2 in /usr/local/lib/python3.10/dist-packages (from requests->torchvision>=0.5->easyocr) (3.3.2)\n",
            "Requirement already satisfied: idna<4,>=2.5 in /usr/local/lib/python3.10/dist-packages (from requests->torchvision>=0.5->easyocr) (3.6)\n",
            "Requirement already satisfied: urllib3<3,>=1.21.1 in /usr/local/lib/python3.10/dist-packages (from requests->torchvision>=0.5->easyocr) (2.0.7)\n",
            "Requirement already satisfied: certifi>=2017.4.17 in /usr/local/lib/python3.10/dist-packages (from requests->torchvision>=0.5->easyocr) (2024.2.2)\n",
            "Requirement already satisfied: mpmath>=0.19 in /usr/local/lib/python3.10/dist-packages (from sympy->torch->easyocr) (1.3.0)\n",
            "Installing collected packages: ninja, python-bidi, easyocr\n",
            "Successfully installed easyocr-1.7.1 ninja-1.11.1.1 python-bidi-0.4.2\n"
          ]
        }
      ],
      "source": [
        "!pip3 install easyocr"
      ]
    },
    {
      "cell_type": "markdown",
      "source": [
        "### Il riconoscimento ottico dei caratteri"
      ],
      "metadata": {
        "id": "3VPxZJeNTzox"
      }
    },
    {
      "cell_type": "markdown",
      "metadata": {
        "id": "zLYAOiJCzACP"
      },
      "source": [
        "Il processo di riconoscimento ottico dei caratteri avviene attraverso l'utilizzo del modulo Easy Ocr: per ogni immagine l'oggetto reader defisce il testo riconosciuto al suo interno, i testi vengono concatenati in una stringa e le stringhe vengono raccolte nella lista pred_texts che restituisce tutti i testi predetti."
      ]
    },
    {
      "cell_type": "code",
      "execution_count": null,
      "metadata": {
        "id": "qMSSoKKyNpTc"
      },
      "outputs": [],
      "source": [
        "from sys import prefix\n",
        "import os\n",
        "import easyocr\n",
        "\n",
        "def ocr_on_folder(images, language='en'):\n",
        "    reader = easyocr.Reader([language])\n",
        "    pred_texts = []\n",
        "\n",
        "    for i in range(len(images)):\n",
        "\n",
        "      result = reader.readtext(images[i])\n",
        "      text = ''\n",
        "      path = ''\n",
        "\n",
        "      for detection in result:\n",
        "        text += detection[1] + ' '\n",
        "\n",
        "      pred_texts.append(text[0:len(text)-1])\n",
        "\n",
        "    return pred_texts"
      ]
    },
    {
      "cell_type": "markdown",
      "source": [
        "### Metriche di valutazione\n"
      ],
      "metadata": {
        "id": "E3TALK3cRiZE"
      }
    },
    {
      "cell_type": "markdown",
      "metadata": {
        "id": "aUb20dB10DdV"
      },
      "source": [
        "La seguente funzione calcola i punteggi CER e WER dei risultati prodotti dal programma, prendendo in cosiderazione e confrontanto la lista dei testi predetti con la lista dei testi golden."
      ]
    },
    {
      "cell_type": "code",
      "execution_count": null,
      "metadata": {
        "id": "zYPOAEzeQVCs"
      },
      "outputs": [],
      "source": [
        "def calculate_scores(pred_texts, true_texts):\n",
        "  scores_cer = [ fastwer.score_sent(pred_texts[i].lower(), true_texts[i].lower(), char_level=True) for i in range(len(pred_texts)) ]\n",
        "\n",
        "  scores_wer = [ fastwer.score_sent(pred_texts[i].lower(), true_texts[i].lower()) for i in range(len(pred_texts)) ]\n",
        "\n",
        "  return scores_cer, scores_wer"
      ]
    },
    {
      "cell_type": "markdown",
      "metadata": {
        "id": "-G1sllZ80tXt"
      },
      "source": [
        "I risultati CER e WER vengono visualizzati in file .csv per categoria di immagine. Mostrano la trasformazione eseguita e i risultati ottenuti.  "
      ]
    },
    {
      "cell_type": "code",
      "execution_count": null,
      "metadata": {
        "id": "OH5APkSHg2jh"
      },
      "outputs": [],
      "source": [
        "def generate_csv(data_class, trans, cer, wer):\n",
        "  d = {'augmentation': trans, 'cer': cer, 'wer': wer}\n",
        "  df = pd.DataFrame(data=d)\n",
        "\n",
        "  csv_name = data_class + '.csv'\n",
        "  df.to_csv(csv_name, sep=',', index=False)\n",
        "  return df"
      ]
    },
    {
      "cell_type": "markdown",
      "metadata": {
        "id": "JJWCL-7z1QEJ"
      },
      "source": [
        "Viene definita una seconda funziona per l'implementazione dei file .csv contenenti il percorso dell'immagine, il testo golden e il testo predetto."
      ]
    },
    {
      "cell_type": "code",
      "execution_count": null,
      "metadata": {
        "id": "6EEL3g1o__-j"
      },
      "outputs": [],
      "source": [
        "def generate_text_csv(csv_label, files_path, true_text, pred_texts):\n",
        "  d = {'filename': files_path, 'true_text': true_text, 'pred_text': pred_texts}\n",
        "  df = pd.DataFrame(data=d)\n",
        "  csv_name = csv_label + '.csv'\n",
        "  df.to_csv(csv_name, sep=',', index=False)\n",
        "  return df"
      ]
    },
    {
      "cell_type": "markdown",
      "source": [
        "### Risultati"
      ],
      "metadata": {
        "id": "rUDfKbg5Rn6d"
      }
    },
    {
      "cell_type": "markdown",
      "metadata": {
        "id": "CWF81-9E1lua"
      },
      "source": [
        "Ogni immagine all'interno di una categoria di immagini viene analizzata per ciascuna combinazione di qualità (high e low) e per ciascuna trasformazione (natural, blur, rotation, gray).  Se l'immagine è natural (originale, senza trasformazioni) e la qualità è low, allora l'immagine viene ridimensionata; se l'immagine è natural e high, viene presa l'immagine originale. Per quanto riguarda le trasformazioni, se il parametro è diverso da natural e la qualità è high, viene presa l'immagine originale con la trasformazione, altrimenti viene impostato il parametro scale per ottenere le immagini low quality."
      ]
    },
    {
      "cell_type": "code",
      "execution_count": null,
      "metadata": {
        "colab": {
          "base_uri": "https://localhost:8080/"
        },
        "id": "jiy-dTrlm_NI",
        "outputId": "221e0ca8-cec6-4147-a2a6-28415e1de2b5"
      },
      "outputs": [
        {
          "output_type": "stream",
          "name": "stderr",
          "text": [
            "WARNING:easyocr.easyocr:Neither CUDA nor MPS are available - defaulting to CPU. Note: This module is much faster with a GPU.\n",
            "WARNING:easyocr.easyocr:Downloading detection model, please wait. This may take several minutes depending upon your network connection.\n"
          ]
        },
        {
          "output_type": "stream",
          "name": "stdout",
          "text": [
            "handwritten_texts\n",
            "high-natural\n",
            "Progress: |██████████████████████████████████████████████████| 100.0% Complete"
          ]
        },
        {
          "output_type": "stream",
          "name": "stderr",
          "text": [
            "WARNING:easyocr.easyocr:Downloading recognition model, please wait. This may take several minutes depending upon your network connection.\n"
          ]
        },
        {
          "output_type": "stream",
          "name": "stdout",
          "text": [
            "Progress: |██████████████████████████████████████████████████| 100.0% Complete"
          ]
        },
        {
          "output_type": "stream",
          "name": "stderr",
          "text": [
            "WARNING:easyocr.easyocr:Neither CUDA nor MPS are available - defaulting to CPU. Note: This module is much faster with a GPU.\n"
          ]
        },
        {
          "output_type": "stream",
          "name": "stdout",
          "text": [
            "high-blur\n"
          ]
        },
        {
          "output_type": "stream",
          "name": "stderr",
          "text": [
            "WARNING:easyocr.easyocr:Neither CUDA nor MPS are available - defaulting to CPU. Note: This module is much faster with a GPU.\n"
          ]
        },
        {
          "output_type": "stream",
          "name": "stdout",
          "text": [
            "high-rotation\n"
          ]
        },
        {
          "output_type": "stream",
          "name": "stderr",
          "text": [
            "WARNING:easyocr.easyocr:Neither CUDA nor MPS are available - defaulting to CPU. Note: This module is much faster with a GPU.\n"
          ]
        },
        {
          "output_type": "stream",
          "name": "stdout",
          "text": [
            "high-gray\n"
          ]
        },
        {
          "output_type": "stream",
          "name": "stderr",
          "text": [
            "WARNING:easyocr.easyocr:Neither CUDA nor MPS are available - defaulting to CPU. Note: This module is much faster with a GPU.\n"
          ]
        },
        {
          "output_type": "stream",
          "name": "stdout",
          "text": [
            "low-natural\n"
          ]
        },
        {
          "output_type": "stream",
          "name": "stderr",
          "text": [
            "WARNING:easyocr.easyocr:Neither CUDA nor MPS are available - defaulting to CPU. Note: This module is much faster with a GPU.\n"
          ]
        },
        {
          "output_type": "stream",
          "name": "stdout",
          "text": [
            "low-blur\n"
          ]
        },
        {
          "output_type": "stream",
          "name": "stderr",
          "text": [
            "WARNING:easyocr.easyocr:Neither CUDA nor MPS are available - defaulting to CPU. Note: This module is much faster with a GPU.\n"
          ]
        },
        {
          "output_type": "stream",
          "name": "stdout",
          "text": [
            "low-rotation\n"
          ]
        },
        {
          "output_type": "stream",
          "name": "stderr",
          "text": [
            "WARNING:easyocr.easyocr:Neither CUDA nor MPS are available - defaulting to CPU. Note: This module is much faster with a GPU.\n"
          ]
        },
        {
          "output_type": "stream",
          "name": "stdout",
          "text": [
            "low-gray\n"
          ]
        },
        {
          "output_type": "stream",
          "name": "stderr",
          "text": [
            "WARNING:easyocr.easyocr:Neither CUDA nor MPS are available - defaulting to CPU. Note: This module is much faster with a GPU.\n"
          ]
        },
        {
          "output_type": "stream",
          "name": "stdout",
          "text": [
            "unstructured_text\n",
            "high-natural\n"
          ]
        },
        {
          "output_type": "stream",
          "name": "stderr",
          "text": [
            "WARNING:easyocr.easyocr:Neither CUDA nor MPS are available - defaulting to CPU. Note: This module is much faster with a GPU.\n"
          ]
        },
        {
          "output_type": "stream",
          "name": "stdout",
          "text": [
            "high-blur\n"
          ]
        },
        {
          "output_type": "stream",
          "name": "stderr",
          "text": [
            "WARNING:easyocr.easyocr:Neither CUDA nor MPS are available - defaulting to CPU. Note: This module is much faster with a GPU.\n"
          ]
        },
        {
          "output_type": "stream",
          "name": "stdout",
          "text": [
            "high-rotation\n"
          ]
        },
        {
          "output_type": "stream",
          "name": "stderr",
          "text": [
            "WARNING:easyocr.easyocr:Neither CUDA nor MPS are available - defaulting to CPU. Note: This module is much faster with a GPU.\n"
          ]
        },
        {
          "output_type": "stream",
          "name": "stdout",
          "text": [
            "high-gray\n"
          ]
        },
        {
          "output_type": "stream",
          "name": "stderr",
          "text": [
            "WARNING:easyocr.easyocr:Neither CUDA nor MPS are available - defaulting to CPU. Note: This module is much faster with a GPU.\n"
          ]
        },
        {
          "output_type": "stream",
          "name": "stdout",
          "text": [
            "low-natural\n"
          ]
        },
        {
          "output_type": "stream",
          "name": "stderr",
          "text": [
            "WARNING:easyocr.easyocr:Neither CUDA nor MPS are available - defaulting to CPU. Note: This module is much faster with a GPU.\n"
          ]
        },
        {
          "output_type": "stream",
          "name": "stdout",
          "text": [
            "low-blur\n"
          ]
        },
        {
          "output_type": "stream",
          "name": "stderr",
          "text": [
            "WARNING:easyocr.easyocr:Neither CUDA nor MPS are available - defaulting to CPU. Note: This module is much faster with a GPU.\n"
          ]
        },
        {
          "output_type": "stream",
          "name": "stdout",
          "text": [
            "low-rotation\n"
          ]
        },
        {
          "output_type": "stream",
          "name": "stderr",
          "text": [
            "WARNING:easyocr.easyocr:Neither CUDA nor MPS are available - defaulting to CPU. Note: This module is much faster with a GPU.\n"
          ]
        },
        {
          "output_type": "stream",
          "name": "stdout",
          "text": [
            "low-gray\n"
          ]
        },
        {
          "output_type": "stream",
          "name": "stderr",
          "text": [
            "WARNING:easyocr.easyocr:Neither CUDA nor MPS are available - defaulting to CPU. Note: This module is much faster with a GPU.\n"
          ]
        },
        {
          "output_type": "stream",
          "name": "stdout",
          "text": [
            "structured_text\n",
            "high-natural\n"
          ]
        },
        {
          "output_type": "stream",
          "name": "stderr",
          "text": [
            "WARNING:easyocr.easyocr:Neither CUDA nor MPS are available - defaulting to CPU. Note: This module is much faster with a GPU.\n"
          ]
        },
        {
          "output_type": "stream",
          "name": "stdout",
          "text": [
            "high-blur\n"
          ]
        },
        {
          "output_type": "stream",
          "name": "stderr",
          "text": [
            "WARNING:easyocr.easyocr:Neither CUDA nor MPS are available - defaulting to CPU. Note: This module is much faster with a GPU.\n"
          ]
        },
        {
          "output_type": "stream",
          "name": "stdout",
          "text": [
            "high-rotation\n"
          ]
        },
        {
          "output_type": "stream",
          "name": "stderr",
          "text": [
            "WARNING:easyocr.easyocr:Neither CUDA nor MPS are available - defaulting to CPU. Note: This module is much faster with a GPU.\n"
          ]
        },
        {
          "output_type": "stream",
          "name": "stdout",
          "text": [
            "high-gray\n"
          ]
        },
        {
          "output_type": "stream",
          "name": "stderr",
          "text": [
            "WARNING:easyocr.easyocr:Neither CUDA nor MPS are available - defaulting to CPU. Note: This module is much faster with a GPU.\n"
          ]
        },
        {
          "output_type": "stream",
          "name": "stdout",
          "text": [
            "low-natural\n"
          ]
        },
        {
          "output_type": "stream",
          "name": "stderr",
          "text": [
            "WARNING:easyocr.easyocr:Neither CUDA nor MPS are available - defaulting to CPU. Note: This module is much faster with a GPU.\n"
          ]
        },
        {
          "output_type": "stream",
          "name": "stdout",
          "text": [
            "low-blur\n"
          ]
        },
        {
          "output_type": "stream",
          "name": "stderr",
          "text": [
            "WARNING:easyocr.easyocr:Neither CUDA nor MPS are available - defaulting to CPU. Note: This module is much faster with a GPU.\n"
          ]
        },
        {
          "output_type": "stream",
          "name": "stdout",
          "text": [
            "low-rotation\n"
          ]
        },
        {
          "output_type": "stream",
          "name": "stderr",
          "text": [
            "WARNING:easyocr.easyocr:Neither CUDA nor MPS are available - defaulting to CPU. Note: This module is much faster with a GPU.\n"
          ]
        },
        {
          "output_type": "stream",
          "name": "stdout",
          "text": [
            "low-gray\n"
          ]
        },
        {
          "output_type": "stream",
          "name": "stderr",
          "text": [
            "WARNING:easyocr.easyocr:Neither CUDA nor MPS are available - defaulting to CPU. Note: This module is much faster with a GPU.\n"
          ]
        },
        {
          "output_type": "stream",
          "name": "stdout",
          "text": [
            "car_plates\n",
            "high-natural\n"
          ]
        },
        {
          "output_type": "stream",
          "name": "stderr",
          "text": [
            "WARNING:easyocr.easyocr:Neither CUDA nor MPS are available - defaulting to CPU. Note: This module is much faster with a GPU.\n"
          ]
        },
        {
          "output_type": "stream",
          "name": "stdout",
          "text": [
            "high-blur\n"
          ]
        },
        {
          "output_type": "stream",
          "name": "stderr",
          "text": [
            "WARNING:easyocr.easyocr:Neither CUDA nor MPS are available - defaulting to CPU. Note: This module is much faster with a GPU.\n"
          ]
        },
        {
          "output_type": "stream",
          "name": "stdout",
          "text": [
            "high-rotation\n"
          ]
        },
        {
          "output_type": "stream",
          "name": "stderr",
          "text": [
            "WARNING:easyocr.easyocr:Neither CUDA nor MPS are available - defaulting to CPU. Note: This module is much faster with a GPU.\n"
          ]
        },
        {
          "output_type": "stream",
          "name": "stdout",
          "text": [
            "high-gray\n"
          ]
        },
        {
          "output_type": "stream",
          "name": "stderr",
          "text": [
            "WARNING:easyocr.easyocr:Neither CUDA nor MPS are available - defaulting to CPU. Note: This module is much faster with a GPU.\n"
          ]
        },
        {
          "output_type": "stream",
          "name": "stdout",
          "text": [
            "low-natural\n"
          ]
        },
        {
          "output_type": "stream",
          "name": "stderr",
          "text": [
            "WARNING:easyocr.easyocr:Neither CUDA nor MPS are available - defaulting to CPU. Note: This module is much faster with a GPU.\n"
          ]
        },
        {
          "output_type": "stream",
          "name": "stdout",
          "text": [
            "low-blur\n"
          ]
        },
        {
          "output_type": "stream",
          "name": "stderr",
          "text": [
            "WARNING:easyocr.easyocr:Neither CUDA nor MPS are available - defaulting to CPU. Note: This module is much faster with a GPU.\n"
          ]
        },
        {
          "output_type": "stream",
          "name": "stdout",
          "text": [
            "low-rotation\n"
          ]
        },
        {
          "output_type": "stream",
          "name": "stderr",
          "text": [
            "WARNING:easyocr.easyocr:Neither CUDA nor MPS are available - defaulting to CPU. Note: This module is much faster with a GPU.\n"
          ]
        },
        {
          "output_type": "stream",
          "name": "stdout",
          "text": [
            "low-gray\n"
          ]
        }
      ],
      "source": [
        "labels = np.array(labels)\n",
        "quality = ['high', 'low']\n",
        "augmentation = ['natural', 'blur', 'rotation', 'gray']\n",
        "\n",
        "for label in set(labels):\n",
        "  print(label)\n",
        "  class_index = np.where(labels==label)[0]\n",
        "  test_images = []\n",
        "\n",
        "  column_cer = []\n",
        "  column_wer = []\n",
        "  column_trans = []\n",
        "\n",
        "  for q in quality:\n",
        "    for a in augmentation:\n",
        "      print(q+'-'+a)\n",
        "      if a == 'natural' and q == 'low':\n",
        "        test_images = [resize_image(x) for x in images[class_index]]\n",
        "      elif a == 'natural' and q == 'high':\n",
        "        test_images = images[class_index]\n",
        "\n",
        "      if a != 'natural':\n",
        "        if q == 'high':\n",
        "          test_images = image_transform(images[class_index], a)\n",
        "        else:\n",
        "          test_images = image_transform(images[class_index], a, scale=True)\n",
        "\n",
        "      pred_texts = ocr_on_folder(test_images)\n",
        "\n",
        "      cer, wer = calculate_scores(pred_texts, true_texts[class_index])\n",
        "\n",
        "      column_cer.append(round(np.mean(cer), 2))\n",
        "      column_wer.append(round(np.mean(wer), 2))\n",
        "      column_trans.append(str(q)+'-'+str(a))\n",
        "\n",
        "      # genera un file .csv per ogni label e per ogni trasformazione\n",
        "      # permette di visualizzare il testo predetto e il testo golden\n",
        "      generate_text_csv(label+'-'+str(q)+'-'+str(a), images_path[class_index], true_texts[class_index], pred_texts)\n",
        "\n",
        "\n",
        "  generate_csv(label, column_trans, column_cer, column_wer)"
      ]
    }
  ],
  "metadata": {
    "accelerator": "GPU",
    "colab": {
      "gpuType": "T4",
      "provenance": [],
      "include_colab_link": true
    },
    "kernelspec": {
      "display_name": "Python 3",
      "name": "python3"
    },
    "language_info": {
      "name": "python"
    }
  },
  "nbformat": 4,
  "nbformat_minor": 0
}